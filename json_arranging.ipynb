{
 "cells": [
  {
   "cell_type": "code",
   "execution_count": 6,
   "metadata": {},
   "outputs": [
    {
     "name": "stdout",
     "output_type": "stream",
     "text": [
      "complete\n"
     ]
    }
   ],
   "source": [
    "import json\n",
    "\n",
    "with open('../pre_arrange/v2_mscoco_train2014_annotations.json', 'r') as f:\n",
    "    json_data = json.load(f)\n",
    "\n",
    "a=json.dumps(json_data, indent=4)\n",
    "\n",
    "with open('../v2_mscoco_train2014_annotations_arranged_1.json', 'w') as file:\n",
    "    file.write(a)\n",
    "\n",
    "print('complete')"
   ]
  },
  {
   "cell_type": "markdown",
   "metadata": {},
   "source": [
    "#### 600000 더하기"
   ]
  },
  {
   "cell_type": "code",
   "execution_count": null,
   "metadata": {},
   "outputs": [],
   "source": [
    "import json\n",
    "\n",
    "input_file = '../v2_OpenEnded_mscoco_train2014_questions.json'\n",
    "\n",
    "output_file = '../v2_OpenEnded_mscoco_train2014_questions_append.json'\n",
    "\n",
    "with open(input_file, 'r') as f:\n",
    "    data = json.load(f)\n",
    "\n",
    "for question in data['questions']:\n",
    "    question['image_id'] += 600000\n",
    "    question['question_id'] += 600000000\n",
    "\n",
    "with open(output_file, 'w') as f:\n",
    "    json.dump(data, f, indent=4)"
   ]
  },
  {
   "cell_type": "markdown",
   "metadata": {},
   "source": [
    "#### question 좌우반전"
   ]
  },
  {
   "cell_type": "code",
   "execution_count": null,
   "metadata": {},
   "outputs": [],
   "source": [
    "import json\n",
    "import re\n",
    "\n",
    "with open('../v2_OpenEnded_mscoco_train2014_questions_arranged.json', 'r', encoding='utf-8') as f:\n",
    "    questions_data = json.load(f)\n",
    "\n",
    "def flip_right_left(question):\n",
    "    # 먼저 \"right\"를 \"LEFT_TEMP\"로 바꿔서 중복 방지\n",
    "    question = re.sub(r'\\bright\\b', 'LEFT_TEMP', question, flags=re.IGNORECASE)\n",
    "    # \"left\"를 \"right\"로 바꿈\n",
    "    question = re.sub(r'\\bleft\\b', 'right', question, flags=re.IGNORECASE)\n",
    "    # \"LEFT_TEMP\"를 다시 \"left\"로 바꿈\n",
    "    question = re.sub(r'LEFT_TEMP', 'left', question, flags=re.IGNORECASE)\n",
    "    return question\n",
    "\n",
    "for q in questions_data['questions']:\n",
    "    q['question'] = flip_right_left(q['question'])\n",
    "\n",
    "with open('../v2_OpenEnded_mscoco_train2014_questions_arranged_flip.json', 'w', encoding='utf-8') as f:\n",
    "    json.dump(questions_data, f, ensure_ascii=False, indent=4)\n",
    "\n",
    "print(\"Questions have been flipped and saved\")"
   ]
  },
  {
   "cell_type": "markdown",
   "metadata": {},
   "source": [
    "#### annotation 좌우반전"
   ]
  },
  {
   "cell_type": "code",
   "execution_count": null,
   "metadata": {},
   "outputs": [
    {
     "name": "stdout",
     "output_type": "stream",
     "text": [
      "새로운 JSON 파일이 './VQA/v2_OpenEnded_mscoco_val2014_questions_arranged_numbered.json' 이름으로 저장되었습니다.\n"
     ]
    }
   ],
   "source": [
    "# JSON 파일에 번호 매기기\n",
    "import json\n",
    "\n",
    "def add_set_numbers(input_file, output_file):\n",
    "    # 입력 파일을 열어서 JSON 데이터를 읽음\n",
    "    with open(input_file, 'r') as f:\n",
    "        data = json.load(f)\n",
    "\n",
    "    # 각 질문 세트에 번호 매기기\n",
    "    for idx, question in enumerate(data[\"questions\"], 1):\n",
    "        question[\"set_number\"] = idx\n",
    "\n",
    "    # 수정된 데이터를 출력 파일에 저장\n",
    "    with open(output_file, 'w') as f:\n",
    "        json.dump(data, f, indent=2)\n",
    "\n",
    "    print(f\"새로운 JSON 파일이 '{output_file}' 이름으로 저장되었습니다.\")\n",
    "\n",
    "# 예시 사용법\n",
    "input_file = './VQA/v2_OpenEnded_mscoco_val2014_questions_arranged.json'\n",
    "output_file = './VQA/v2_OpenEnded_mscoco_val2014_questions_arranged_numbered.json'  # 수정된 데이터를 저장할 출력 파일 이름\n",
    "\n",
    "add_set_numbers(input_file, output_file)"
   ]
  },
  {
   "cell_type": "markdown",
   "metadata": {},
   "source": [
    "#### all answers 대답 빈도수 계산"
   ]
  },
  {
   "cell_type": "code",
   "execution_count": 5,
   "metadata": {},
   "outputs": [],
   "source": [
    "import json\n",
    "from collections import Counter\n",
    "\n",
    "json_file_path = \"../arranged/v2_mscoco_train2014_annotations.json\"\n",
    "\n",
    "with open(json_file_path, 'r') as f:\n",
    "    data = json.load(f)\n",
    "\n",
    "all_answers = []\n",
    "\n",
    "for annotation in data['annotations']:\n",
    "    for answer in annotation['answers']:\n",
    "        all_answers.append(answer['answer'])\n",
    "\n",
    "answer_count = Counter(all_answers)\n",
    "\n",
    "with open(\"../all_answers_original.txt\", 'w') as f:\n",
    "    for answer, count in answer_count.items():\n",
    "        f.write(f'\"{answer}\": {count}\\n')"
   ]
  },
  {
   "cell_type": "markdown",
   "metadata": {},
   "source": [
    "#### multiple choice answer 빈도수 계산"
   ]
  },
  {
   "cell_type": "code",
   "execution_count": 10,
   "metadata": {},
   "outputs": [],
   "source": [
    "import json\n",
    "from collections import Counter\n",
    "\n",
    "json_file_path = '../annotations_integrated.json'\n",
    "output_file_path = '../mc_answers_integrated.txt'\n",
    "\n",
    "with open(json_file_path, 'r') as file:\n",
    "    data = json.load(file)\n",
    "\n",
    "answers = [annotation['multiple_choice_answer'] for annotation in data['annotations']]\n",
    "\n",
    "answer_counts = Counter(answers)\n",
    "\n",
    "with open(output_file_path, 'w') as file:\n",
    "    for answer, count in answer_counts.items():\n",
    "        file.write(f'\"{answer}\": {count}\\n')"
   ]
  },
  {
   "cell_type": "markdown",
   "metadata": {},
   "source": [
    "#### multiple choice answer 빈도수 기준 정렬"
   ]
  },
  {
   "cell_type": "code",
   "execution_count": 11,
   "metadata": {},
   "outputs": [],
   "source": [
    "input_file_path = '../mc_answers_integrated.txt'\n",
    "output_file_path = '../mc_answers_integrated_descending_order.txt'\n",
    "\n",
    "with open(input_file_path, 'r') as file:\n",
    "    lines = file.readlines()\n",
    "\n",
    "answers = []\n",
    "for line in lines:\n",
    "    parts = line.strip().rsplit(': ', 1)\n",
    "    if len(parts) == 2:\n",
    "        answer, count = parts\n",
    "        answers.append((answer.strip('\"'), int(count)))\n",
    "\n",
    "answers.sort(key=lambda x: x[1], reverse=True)\n",
    "\n",
    "with open(output_file_path, 'w') as file:\n",
    "    for answer, count in answers:\n",
    "        file.write(f'\"{answer}\": {count}\\n')"
   ]
  },
  {
   "cell_type": "markdown",
   "metadata": {},
   "source": [
    "#### normalize 한 후 비교"
   ]
  },
  {
   "cell_type": "code",
   "execution_count": 13,
   "metadata": {},
   "outputs": [
    {
     "name": "stdout",
     "output_type": "stream",
     "text": [
      "유니크한 값들의 갯수: 3003\n"
     ]
    }
   ],
   "source": [
    "import sys\n",
    "sys.path.append('../../project')\n",
    "from glossary import normalize_word\n",
    "\n",
    "with open('../test.txt', 'r', encoding='utf-8') as file:\n",
    "    data = file.readlines()\n",
    "\n",
    "normalized_keys = set()\n",
    "\n",
    "for line in data:\n",
    "    key, _ = line.split(':', 1)\n",
    "    normalized_key = normalize_word(key.strip())\n",
    "    normalized_keys.add(normalized_key)\n",
    "\n",
    "print(f\"유니크한 값들의 갯수: {len(normalized_keys)}\")"
   ]
  },
  {
   "cell_type": "markdown",
   "metadata": {},
   "source": [
    "#### txt 파일 비교"
   ]
  },
  {
   "cell_type": "code",
   "execution_count": 14,
   "metadata": {},
   "outputs": [
    {
     "name": "stdout",
     "output_type": "stream",
     "text": [
      "answer2label_original.txt에 있지만 test.txt에는 없는 값: {'', '88', 'afternoon', 'muffin', 'organic', 'privacy', 'jumped', 'easter', 'camera', 'bowling', 'leopard', 'rice', 'tiles', 'star alliance', 'in stands', 'brush', 'detroit', 'commercial', 's', 'worms', 'sunflower', 'tv', 'ceramic', 'mario', 'post', 'yellow and red', 'theater', 'on stove', 'dirt bike', '11:50', 'ribbon', 'floor', 'carnations', 'toilet paper', 'omelet', 'russia', 'db', 'aluminum', 'fishing', 'bank of america', 'dog and cat', 'below', 'graffiti', 'onion', 'run', 'washington monument', 'pot', '5:30', 'union station', 'harbor', 'sleep', 'huge', 'used', 'park', 'smile', 'crest', 'wheels', 'in cup', 'sprint', 'soccer field', 'candles', 'samsung', 'on horse', 'movie', '1 on left', 'blueberry', 'train car', 'on ground', 'healthy', 'heat', 'ivy', 'washing', '5:55', 'above toilet', 'exit', 'decoration', 'mickey mouse', 'ball', 'soccer ball', 'no hat', 'bull', 'stuffed animal', 'ski slope', 'ketchup and mustard', 'town', 'shopping', 'flying', 'black and pink', 'good', 'ford', 'public market center', 'pan', 'polka dot', 'gothic', 'unknown', 'bright', 'cart', 'no smoking', 'burgers', 'sweet', 'squatting', 'movement', 'robe', 'bottles', 'tourist', 'nowhere', 'sliced', 'pedestrian crossing', 'hill', '2 hours', 'monkey', 'wooden', 'harry potter', 'blue and pink', 'nikon', 'dead end', 'catch frisbee', 'rabbit', 'focus', 'salad', 'towing', 'lake', 'free', 'pedestal', 'on skateboard', 'suzuki', 'sheet', 'alive', 'electronics', 'adult', 'behind bench', 'both', 'polar bears', 'in', 'middle', 'legs', 'himself', '9:35', 'bakery', 'clear', '7 eleven', 'each other', 'goose', 'bundt', 'professional', 'rock', 'burger', '20 ft', 'mountain', 'bucket', 'scarf', '11:00', 'pitbull', '600', 'tongue', 'airport', 'slippers', 'wires', 'pocket', 'ranch', 'ramp', 'cone', 'not likely', 'coffee', 'qatar', 'wax paper', 'trash can', 'seattle', 'crib', 'reading', 'bus stop', 'caution', 'driving', 'shelf', 'sail', '4:55', 'buses', 'snowing', \"it's raining\", 'horizontally', 'fork', 'tropical', 'males', 'cloudy', 'kawasaki', 'qantas', 'many', 'toward', 'main', 'tell time', 'mud', 'cat and dog', 'powdered', 'y', 'in field', 'hexagon', 'bridge', '59', '12:25', 'cooler', 'drain', 'cross country', 'horse', '1:45', 'swing', 'tim hortons', '2 people', 'girl on right', 'potato salad', 'sauerkraut', 'htc', 'no plate', 'sydney', 'white and orange', 'bird', 'parking lot', 'wine glasses', 'casual', 'tv stand', 'beads', 'museum', 'reds', 'brewers', 'space', 'pockets', \"can't see\", '1:35', 'flip', 'motel', 'outside', 'cucumber', 'cupcake', 'not very', 'p', 'toilets', 'genetics', 'under armour', 'not', 'chef', 'pastries', 'concrete', 'heels', 'looking at phone', '4:45', 'button up', 'off', 'suit', 'no light', 'foil', 'storm', 'iron', 'close up', 'closet', 'power', 'on shelf', 'sweater', 'cowboy', 'bagels', 'on track', 'am', 'family', 'windows', '6:40', 'apple and banana', '5 years', 'jones', 'rodeo', 'slow down', 'canoe', 'green and white', 'no left turn', 'wrist', '1990', 'center', 'pajamas', 'raining', 'out', 'behind clouds', 'stretching', 'vines', 'starbucks', 'mug', 'eating', 'obama', 'ski', 'traffic', 'lines', 'radiator', 'ascending', 'noodles', 'ham and cheese', 'wristband', 'photograph', 'angel', 'b', 'boston', 'old', 'space shuttle', 'button', 'ski resort', '11:30', 'american flag', 'downhill', 'rug', '10:55', 'peanuts', 'cds', 'kitesurfing', 'circle', 'setting', 'landscape', 'practice', 'skiing', 'smoking', 'kayak', 'wheel', '193', 'magnets', 'porch', 'cheese', 'copyright', 'hammock', 'garlic', 'daffodil', 'money', 'strap', 'on street', 'us airways', 'prince', 'ferris wheel', '1:20', 'arm', 'very long', 'cylinder', 'badminton', 'carrot', 'cessna', 'thousands', 'photography', 'mailbox', 'burrito', 'surfers', 'slow', 'top', 'on runway', 'fireplace', '8:35', 'ghost', 'middle 1', 'oranges', 'leaves', 'dell', 'wedding', 'on napkin', 'mirrors', 'bun', 'pedestrians', 'pigtails', 'highway', 'gold', 'comforter', 'state farm', 'cup', 'bowl', 'giants', 'babies', 'compaq', 'dad', 'festival', 'after', 'easy', 'sad', 'fish', 'nasa', 'diesel', 'gone', 'classroom', 'female', 'fedex', 'tower', 'in snow', 'email', 'christian', 'grape', 'syrup', 'papers', 'lamb', 'chevron', 'french', 'celery', 'game', 'mercedes', 'vanilla', 'sneakers', 'distance', 'chain link', 'red white blue', 'yankees', 'boating', 'hotel', 'baked', 'minnie mouse', '47', 'fridge', 'crows', 'hazy', 'nuts', 'pitch', 'holding', 'pointing', 'tape', 'cheddar', 'swiss', '10:35', 'fork and spoon', 'vehicles', 'butterfly', 'flood', 'hummingbird', 'skull and crossbones', 'beijing', 'knee pads', 'philadelphia', 'more', 'rural', 'log', 'in back', 'star wars', 'warmth', 'tiled', 'playing frisbee', 'plastic', 'band', 'bird feeder', 'fern', 'very fast', 'emirates', '4:15', 'pepsi', 'onions', '6:00', 'sidewalk', 'to hit ball', 'cauliflower', 'man in middle', '6 feet', 'man', 'rack', 'grilled', 'scissors', 'vases', 'shower curtain', 'right hand', 'kneeling', 'brown and black', 'tree', 'using computer', 'tennis rackets', 'brushing hair', 'spoon', 'life vest', 'moon', 'x', 'cruise ship', 'shorts', 'meeting', 'duck', 'triumph', 'tissue', 'cannot tell', 'dreadlocks', 'stand', 'tank', 'electricity', 'recently', 'flower', 'donut', 'dalmatian', 'mask', 'suv', 'tire', 'single engine', 'on desk', '12:05', 'mountainous', 'fluffy', '29', 'baseball game', 'english', 'urban', 'zebra', 'half full', 'lap', 'white and pink', 'pizza box', 'street', 'in basket', 'meatballs', 'meow', 'above sink', 'plaid', 'silk', 'frisbees', 'riding horses', 'polar bear', 'bride', 'lift', 'poodle', 'whole', 'no', 'show', 'green and orange', 'side of road', 'riding bike', 'sprite', 'poop', 'teddy bear', 'stainless steel', 'over', '120', 'carpet', 'concert', 'bears', 'air', 'no man', 'pigeons', 'pasture', 'defense', 'logo', \"nathan's\", 'wine tasting', 'pond', 'wisconsin', 'pink and blue', 'paper', 'in front', 'tablet', '6:25', 'chicken', 'boys', 'microwave', 'braid', 'pastry', 'pole', 'engine', 'dc', 'hauling', 'snake', 'skier', 'poster', 'curved', 'usa', 'arabic', 'bob', 'freightliner', 'cycling', 'person', 'vans', 'sub', 'chalk', 'pigeon', 'baby', 'wing', 'hawk', 'pillow', 'on car', 'shallow', 'lanes', 'hit ball', 'owner', 'glazed', 'shore', 'right side', 'rv', '20 feet', '3rd', 'caramel', 'tracks', '2007', 'black and blue', 'bicycle', 'bank', 'dancing', 'lighting', 'brown', 'bus driver', 'fast food', 'laying down', 'left side', 'falling', 'us open', 'frosted', 'pc', 'windsor', 'smaller', 'fancy', 'kodak', 'giraffes', 'westin', 'waving', '5 star', 'whipped cream', 'up', 'twin', 'mother', 'patterned', 'living room', 'pink', 'parking meters', 'in sink', 'branches', 'goalie', 'running', 'mother and child', 'diamond', 'plow', 'gloves', 'forehand', '5:00', 'jet', 'sailing', 'green and black', 'ceiling', 'church', 'ice', 'shoes', 'warm', '37', 'bending', '11:20', '3:50', 'cherry', 'blue and gray', 'cleaner', 'nighttime', 'hot dogs', 'gym', 'grapes', 'scooter', '3 feet', 'licking', 'magazine', 'not sure', 'air force', 'sweatband', 'clothing', 'riding elephant', 'evergreen', 'china', 'freight', 'no dog', 'holding baby', '8:55', 'catching', 'knives', 'black and orange', 'monday', 'coal', 'sewing', 'camo', 'black and yellow', 'carrots', '6:20', 'foreground', 'display', 'mound', 'blt', 'strawberries', 'atv', 'going', 'refrigerators', 'playing wii', 'branch', 'orange', 'carrot cake', 'pans', 'heavy', 'blending', 'chopsticks', 'klm', 'lemonade', 'shrimp', 'grocery store', 'disney', '200', 'north', 'german', 'pig', 'ham', 'books', 'barbed wire', 'santa hat', 'jet ski', 'monitor', 'throw', 'smartphone', 'younger', 'apartments', 'laundry', 'collie', 'in box', 'pitcher', 'cross', '12:45', 'mushroom', 'serving', 'hiking', 'main st', 'drums', 'in sky', 'double decker', 'ski poles', 'volleyball', 'd', 'metal', 'end', 'balance', 'sheets', 'frisbee', 'tarmac', 'on road', 'tennis racquet', 'at camera', 'model', 'cartoon', 'daytime', '1000', 'tools', 'lego', 'foot', 'lotion', 'sunflowers', 'planter', 'cabbage', 'orange and black', 'pickle', 'pull', 'store', 'plaster', '2:00', 'clydesdale', 'behind', 'construction', 'steak', '75', 'high', '1:55', 'moss', 'passenger', 'tater tots', '12:15', 'cleaning', 'cookies', 'black and red', 'train tracks', 'pacifier', 'news', 'confused', 'street name', 'backpack', 'vacation', 'toast', 'beach', 'rainbow', 'flip phone', 'red and blue', 'not here', 'cakes', 'bleachers', 'very', 'rear', 'triangle', 'north face', 'bags', 'on sidewalk', 'tulips', 'uniform', 'sandals', '2:30', 'mozzarella', 'rays', 'stars', 'tube', 'lights', 'castle', 'close', 'chevy', 'hispanic', '5:25', 'subway', 'brown and white', 'dole', 'humans', 'regular', 'green and blue', 'playing game', 'i', '11:10', '5:40', 'windowsill', '70', '1950s', 'harness', '12:55', 'on phone', 'wicker', 'play tennis', 'verizon', 'champagne', 'easyjet', 'brass', 'camouflage', 'very deep', 'dinner', 'chain', 'spectators', 'wiimote', 'flying kites', 'straight', 'horseback riding', 't', 'windmill', 'angry', 'spatula', 'brushing his teeth', 'relish', 'washington', 'cook', 'stability', 'wild', '350', 'japanese', 'comcast', '8:00', 'sunglasses', 'country', 'continental', 'mohawk', '53', 'hp', 'direction', 'rectangle', 'opaque', '1980', 'bald', 'cars', 'shaved', 'dishes', 't shirt', 'pine', 'pedestrian', 'talking', 'pencil', 'pelican', 'kangaroo', \"women's\", 'raw', 'trash', 'balloon', 'overcast', \"they aren't\", 'zoo', 'pearl', 'thomas', 'tokyo', 'jelly', '12:10', 'cirrus', '12:40', 'xbox', 'van', '9:55', 'fur', 'luggage', 'dough', 'dusk', 'hearts', 'uniforms', '2 years', 'orange and yellow', 'chairs', 'scratching', '68', 'string', 'casserole', 'flag', 'clock tower', 'white and yellow', 'cnn', 'rackets', 'tattoo', 'skateboarding', 'pony', 'golf', 'hood', 'coffee table', 'remote', 'wallpaper', 'asparagus', 'cigarettes', 'formica', 'cat food', 'scrambled', 'throwing', 'library', 'protection', 'desert', 'equestrian', 'michigan', \"he isn't\", 'far', 'tour', 'bar', 'cut', 'harley davidson', 'wildebeest', 'spring', 'yamaha', '7:55', 'power lines', 'tent', 'accident', 'soldier', 'box', 'peeing', 'trees', 'curtain', 'bowtie', 'safety', 'mixer', 'o', 'stained glass', 'shopping cart', 'panda', 'scale', 'milk', 'tub', 'barber shop', 'handicap', 'sleeping', 'all way', 'summer', 'dairy queen', 'in vase', 'victoria', 'bronze', 'railing', 'loading', 'pickup', 'race', 'large', 'hands', 'white', 'controller', 'parking garage', 'playing baseball', 'hit', 'us', 'girls', 'notebook', 'notes', 'blueberries', 'chase', 'phillies', '65', 'uk', 'roof', 'magazines', 'concentration', 'red sox', 'icing', 'heinz', 'riding motorcycle', 'broccoli', 'coconut', 'using laptop', 'students', 'north america', '1:30', 'coins', '400', '8 feet', '9:30', 'f', 'mercedes benz', 'walgreens', 'whale', 'graduation', 'asics', 'cones', 'tomatoes', 'delivery', 'bad', 'motor', \"woman's\", 'print', '9:15', '10:40', '90', 'dip', 'menu', 'coat', 'not high', 'asphalt', 'ground', 'pooping', 'child', 'heart', 'frame', 'photographer', 'jungle', 'military', 'in her hand', 'wagon', '15', 'sheep', 'bag', 'gas', 'steel', 'drawing', 'asian', 'frog', 'wheat', 'earring', 'liquor', 'signs', 'necklace', 'top right', 'ship', 'gatorade', 'buoys', 'on tower', 'goatee', 'on beach', 'track', 'children', 'rough', 'west', 'wii', '72', 'kite flying', 'broccoli and carrots', 'porcelain', '100 year party ct', 'stopped', 'jeans', 'yellow and green', 'sky', 'electric', 'head', 'siblings', 'fast', 'amazon', 'sugar', 'single', 'lemon', 't shirt and jeans', 'shoe', 'grazing', '11:25', 'parasailing', 'lamp', 'fire hydrant', 'dining', 'boots', 'out of focus', 'cake', 'to dry', 'kids', 'stuffed animals', 'bread', 'chimney', 'feta', 'silver and red', '42', 'stands', 'baseball uniform', 'basket', 'donuts', 'on his head', 'thumbs up', 'dairy', 'red and yellow', '1 in front', 'cotton', 'for sale', 'toilet', 'shop', 'business', 'red', 'ipod', 'diamonds', 'cardboard', 'blue team', 'sniffing', 'open', 'blonde', 'tarp', 'dog food', 'multiple', 'design', 'entering', 'checkers', 'marshmallows', 'stairs', 'uphill', 'behind fence', 'smiley face', 'sled', 'opponent', 'dishwasher', 'wine', 'container', 'swim', 'shaking hands', 'spinach', 'cherries', 'national express', 'decorative', '1:50', 'very tall', 'terrier', 'water bottle', 'food truck', 'shark', 'orange and white', 'apron', 'comfort', 'horses', 'wax', 'sun hat', 'kiting', 'table', 'africa', 'sitting', 'los angeles', 'alcohol', '1 way', 'cilantro', '61', 'tennis ball', 'newspaper', 'left and right', 'firefighter', 'cardinal', 'plate', 'play', 'trunks', 'stone', 'video game', 'chest', 'pear', 'to eat', 'alligator', 'bulldog', 'n', 'flashlight', 'joshua', 'placemat', 'balcony', 'throw frisbee', 'tie', 'penne', 'jockey', '10:45', 'smoke', 'vent', '66', 'broken', 'to see', 'mustard', 'brace', 'fashion', 'beans', 'blue and orange', 'football', 'cooked', 'maple leaf', 'hollywood', 'paved', 'control', 'messy', 'on bench', 'driver', 'onion rings', 'wall st', 'buoy', 'playing', 'greyhound', 'orange juice', 'tropicana', 'boot', 'gas station', 'in water', 'nightstand', 'radish', 'blood', 'budweiser', 'herd', 'steps', 'girl', 'mouth', 'dock', '5:05', 'daisy', 'security', 'logitech', 'selfie', 'wide', 'mayonnaise', 'male', 'day', 'calm', 'fluorescent', 'to catch ball', 'hammer time', 'skyscrapers', 'bicycles', 'leash', 'not long', 'vegetarian', 'jackets', 'oak', 'helicopter', 'wheelie', 'london', 'sun', 'giraffe and zebra', '7:35', 'in suitcase', 'crossing', 'seagulls', '54', 'wool', 'grill', '10 inches', 'fair', 'pineapple', 'h', 'tomato', 'airplanes', '2:40', 'cushion', 'watermelon', 'oars', 'south', 'kettle', 'sausage', 'delta', 'veggies', 'ladder', 'shepherd', 'crates', \"baby's breath\", 'spotted', '4:30', 'grocery', 'cookie', 'lion', 'red light', 'shadow', 'soda', 'salt and pepper', 'yellow and black', 'white and red', 'fire extinguisher', 'playstation', 'chair', '3', 'day time', 'surfer', '1:05', 'food', 'bathtub', '1.00', 'nobody', 'flamingo', 'teddy', 'food processor', 'congratulations', 'on table', 'gazebo', 'orange and blue', \"valentine's day\", '44', 'cubs', 'puppy', 'santa', 'cinnamon', 'slacks', 'phones', 'drink', 'warning', 'posts', 'yellow and blue', '30', 'canopy', 'steamed', 'painted', 'petting horse', '12:28', 'rainy', 'steeple', 'parachute', 'all', 'stick', 'hats', 'swans', '2012', 'dragon', 'socks', 'ana', 'kitten', 'tablecloth', 'cucumbers', 'abstract', '12:35', 'bunk', 'office', 'tennis', 'meat', 'writing', 'ducks', '99', 'face', 'smooth', 'oval', 'mississippi', 'website', 'softball', 'hand', 'listening', 'barrier', 'red bull', 'logs', 'elmo', 'blue and yellow', 'descending', 'window', 'on train', 'motorcycle', 'piano', 'tiara', 'on water', 'riding', 'stopping', 'drinks', '11:15', 'land', 'truck', 'peace', '5:18', 'american airlines', 'mexican', 'amtrak', 'calico', 'on building', 'pilot', 'bench', 'beard', 'playing video game', '9:25', 'not in service', \"don't know\", 'parmesan', 'vegetables', 'above', 'donkey', 'swan', 'snowflakes', 'watch tv', 'g', 'bowls', 'fighting', 'stagecoach', 'foam', 'catch ball', 'toshiba', 'bananas', 'no cat', 'antelope', 'fly', 'fanta', 'stripe', 'on rock', '10:30', 'oil', 'napkin', 'crane', 'suspenders', 'l', 'france', 'marble', 'plunger', 'rose', 'safe', 'trunk', 'ski lift', 'miami', 'sunrise', 'resting', 'backward', 'side', 'coaster', 'shampoo', 'desktop', 'friend', 'facebook', 'kayaking', 'marina', 'leaf', 'lady', 'potatoes', 'plant', '3:00', 'pots', 'venice', 'lizard', '19', 'long sleeve', 'pillows', 'drawer', \"man's\", 'cell phone', 'apple', 'storage', 'mattress', 'italian', 'w', 'background', 'denim', 'gaming', 'high chair', '1 inch', 'bike rack', 'room', 'tree branch', 'salmon', 'forest', 'beige', 'french fries', 'behind woman', 'bidet', 'westjet', 'hat', 'sign', 'bottom right', 'cameras', 'baseball cap', 'shell', 'team', '9:12', 'black and brown', 'toys', 'mantle', 'bikini', 'maple', 'gray and black', 'pomeranian', 'cuddling', 'picnic table', 'polo', '3:10', 'blanket', 'under', 'swinging', 'tray', 'octopus', 'skateboarder', 'cranes', 'taxi', 'slide', 'mountains', 'baseball player', 'motion', 'flat screen', '3:30', 'trucks', 'windy', 'stew', '6:05', 'fork and knife', 'zebras', 'rain', 'gun', 'australia', '39', 'pepper', '28', 'taller', '2009', 'e', 'vase', 'downtown', 'oar', 'trolley', 'pork', 'flats', 'lighter', 'living', 'commuter', 'seafood', 'ollie', 'someone', 'lying down', '10:08', 'standing', 'peas', 'broke', 'eagle', 'blue and red', 'hundreds', 'sunbathing', 'shelves', 'roman', 'spiral', 'case', 'sliding', '10:05', 'woods', 'caucasian', '12:00', 'mets', 'mouse', '2016', '10:20', 'hallway', 'urinals', 'blackberry', 'grind', 'throw ball', 'maroon', '48', 'antenna', 'turn', 'horse racing', 'rottweiler', 'skate park', 'outfield', 'banana bread', 'board', '100 feet', 'purse', 'pottery', 'wii controllers', 'red white and blue', 'partly cloudy', 'chevrolet', 'shadows', 'garbage', '1:25', 'crown', 'countryside', 'little girl', 'rocks', 'monster', 'snowy', 'steering wheel', 'microphone', 'tuxedo', '500', 'victorian', 'emergency', '22', 'yard', 'garage', 'field', 'cream', 'wet', 'sparrow', 'fans', 'wavy', 'shade', 'life jacket', 'baseball bat', 'teddy bears', 'nature', 'pens', 'muffins', 'arrows', 'california', 'colored', '11:55', 'wallet', 'stork', '7:45', 'sesame', 'john', 'above stove', 'san diego', 'wreath', 'back', 'feeding giraffe', 'christmas tree', 'doorway', 'handle', 'blue jay', 'mitt', 'on sign', 'bottom left', 'fresh', 'clean', 'mitsubishi', 'russian', 'surprise', 'wii remotes', 'home plate', 'tow truck', '2010', 'racket', 'boogie board', '12', 'enclosure', 'home', 'camel', 'hair dryer', 'sand', 'net', 'inside', 'now', 'lilies', 'swimsuit', 'lufthansa', 'banana', 'me', 'travel', 'art', 'blue and white', 'shingles', 'cobblestone', 'elm', 'japan', 'standing still', 'around neck', 'knife and fork', 'stucco', 'tattoos', 'fried', 'wings', '55', 'brazil', 'pasta', 'washington dc', 'in street', 'outdoor', 'bathing', '2:15', 'gray and white', 'dr pepper', '2.00', 'honey', 'pare', 'grilled cheese', 'on bed', 'in cabbage town', 'globe', 'bedroom', 'toothbrush', 'in car', 'cigarette', 'island', 'grass', 'turning', 'kia', \"i don't know\", 'german shepherd', 'fake', 'britain', 'city bus', 'tripod', 'boundaries', 'spiderman', 'brick', '40', 'ski pole', '33', 'baseball field', 'shed', 'advertisement', 'cute', 'dining room', 'big ben', '3:20', '30 mph', 'wire', 'ducati', 'biplane', 'parking meter', 'towel', 'runway', 'headphones', 'moving', 'donut shop', 'boredom', 'skiers', 'golden retriever', 'round', 'hydrant', '1:10', 'multi', 'j', 'mexico', 'goats', 'wii remote', 'captivity', 'index', 'birthday cake', 'blender', '2008', 'forward', 'sunset', 'taking photo', '10 feet', 'on wall', 'yes', 'honda', 'khaki', 'sony ericsson', 'new orleans', '2015', 'crafts', 'fun', 'taking picture', 'millions', 'tea', 'homemade', 'roses', 'purple and white', 'towels', 'photoshop', 'parking', 'watermark', 'citizen', 'at&t', '6:30', 'hot sauce', 'cutting', 'wall', 'bed', 'big', 'hair', 'banana split', 'toasted', 'beef', 'women', 'italy', 'public', 'door', 'squirrel', 'black and white', 'water ski', 'apples', 'on pole', 'pie', 'sandwiches', '2:05', 'no water', 'remotes', 'visor', 'passengers', 'white and gray', 'chili', 'dawn', 'water', 'upright', 'wireless', 'tugboat', '6', 'no train', 'elephants', 'blinds', 'on elephant', 'current', '1 foot', 'wetsuit', '2', 'poor', 'illinois', 'swinging bat', 'acer', 'goal', \"can't tell\", 'pm', 'parrots', 'thailand', 'wakeboard', '10:15', 'singles', 'holding it', 'stuffed', 'fruit salad', '10 years', 'asia', 'hanging', 'bus station', 'cloud', 'turtle', 'ocean', 'visilab', 'fell', 'western', 'boxing', 'pug', 'lace', 'packing', 'crosstown', 'cane', 'volvo', \"he's not\", 'down', 'street sign', 'suits', 'tusks', '300', 'trick', 'fedora', 'beets', 'makeup', 'rectangles', 'lettuce', 'water skis', 'watching', 'recliner', 'baseball', 'on man', 'lifeguard', 'work', 'costume', 'robot', 'green and brown', 'fires', 'dress', 'ties', 'not at all', 'fall', 'paper towels', 'batman', 'bell', 'vests', 'brushing teeth', 'fire truck', 'snowsuit', 'hawaii', 'kiwi', 'happiness', 'kenmore', 'candle', 'before', '5 feet', 'cafe', 'under sink', 'hot', 'dinosaur', 'fishing boat', 'fighter', 'cantaloupe', 'dirty', 'empty', 'jumping', 'yellow and white', 'peppers', 'deck', 'cumulus', 'long', 'rooster', 'juice', 'restaurant', 'american', '2:20', 'handlebars', 'dog show', 'boxes', 'skis', 'singing', '7:05', 'leaving', 'statues', 'knife', 'against wall', 'zipper', 'across street', 'lemons', 'size', '2000', '4:35', 'hanger', 'in hand', 'noon', 'not there', 'umbrella', 'dessert', 'busy', 'plants', 'marker', 'tuna', \"can't see it\", 'on laptop', 'toothpicks', 'over easy', 'dog bed', 'forks', '3:15', 'jesus', 'bottle', 'cow', 'jets', 'black and gray', 'hsbc', 'fly kite', '1 world', 'away', 'm', 'tile', 'half', 'calendar', '11:45', 'stripes', 'cd', '10', 'rye', 'hard', 'steam', 'orchid', 'gray', 'croissant', 'school bus', 'metro', 'on toilet', 'never', 'potato', 'train station', '51', 'platform', 'thick', 'chocolate', '1 on right', 'bunt', 'converse', 'low', 'cool', 'salon', 'rail', 'glass', 'shearing', 'mat', 'ahead', 'hockey', 'moped', 'lots', 'goggles', 'on tree', 'nose', 'left 1', 'top hat', 'shower head', 'shoulder', 'in his hand', 'england', 'party', 'long time', 'fruit', 'flour', '1 hour', 'tennis racket', 'skirt', 'fountain', 'toaster oven', '7', 'happy birthday', 'green and yellow', 'belt', 'flickr', 'drinking water', 'baking', 'quilt', 'floating', 'crosswalk', 'coming', 'fries', 'shih tzu', 'give way', 'benches', 'star', 'no clock', 'conference room', 'club', 'different teams', 'gravel', 'dandelions', 'united', 'looking out window', '11:05', 'florida', 'smoothie', 'stop light', '3:45', 'traffic lights', 'motorcycles', 'wood', 'silver and black', 'white and green', 'skateboard', 'us airways express', 'oven', 'umpire', 'first', 'safari', '4:00', 'crocs', 'license plate', 'tigers', 'competition', 'to catch frisbee', \"mcdonald's\", 'second', 'brushing', 'no shirt', 'on', '23', 'corner', 'neon', 'oregon', 'silverware', 'strawberry', 'on left', 'watching tv', 'chihuahua', 'rowing', 'fence', 'hardwood', 'singapore', 'bathroom', 'petting', 'on dresser', 'bookshelf', 'roman numerals', 'ibm', 'ring finger', '12 feet', 'racing', 'bud light', 'on his face', 'shirts', 'cloth', '1 in back', 'colgate', 'fan', 'player', 'nintendo', 'lid', 'hoodie', 'coca cola', 'walk', 'carriage', 'swim trunks', 'older', 'above door', 'towards', 'adidas', 'dodgers', 'aa', 'eiffel tower', 'double', 'fabric', 'african', 'kitchen', 'wetsuits', 'black and silver', 'savory', 'peanut butter', 'bus', 'sweet potato', 'on tray', 'drywall', 'deer', 'lacoste', 'eaten', 'surfboards', 'meter', 'fisheye', '6:45', 'feet', 'toy', '34', 'persian', 'transport', 'golden gate', 'listening to music', 'charging', 'roast beef', 'pipe', '31', '4th of july', 'labrador', 'identification', 'yogurt', 'protest', 'racquet', 'heineken', 'produce', 'transportation', 'no grass', 'salt', 'plane', 'curly', 'brushing her teeth', 'hills', 'tie dye', 'horizontal', 'roundabout', 'pants', 'young', 'at table', 'friends', 'computer', '35', 'squash', 'next to toilet', 'pink and white', 'tank top', 'bats', 'kickstand', '12:20', '4 feet', 'not possible', 'daisies', 'doubles', 'snowboards', 'propeller', 'game controller', 'farmers', '2:35', 'braves', '49', 'arrow', 'main street', 'barn', 'life', 'to right', 'phone', '56', 'real', 'very big', 'police', 'octagon', 'pirate', 'wind', 'patio', 'music', 'goat', 'batting', 'soft', 'whirlpool', 'vertical', '18', 'suitcases', 'clocks', '8:50', 'school', 'cleats', 'haircut', 'bmw', 'ripe', 'buildings', 'stir fry', 'pizza hut', 'animals', 'snowboard', 'wine bottle', 'crow', 'ride', 'indians', 'dry', 'riding bikes', 'animal', 'biking', 'jp morgan', 'clip', 'almonds', 'sprinkles', 'egg salad', 'united states', '10:00', 'right', 'all of them', 'night time', 'wine glass', 'airplane', 'for photo', 'southwest', 'by window', 'neither', 'taking pictures', 'lunch', 'biker', 'coke', 'brand', 'dogs', 'stool', 'seagull', 'palm trees', '45', 'mango', 'stones', 'seat', 'collage', 'ny', 'olives', 'sunny', 'in background', 'on couch', 'kissing', 'willow', '46', 'skating', '32', 'saddle', 'cage', 'learning', 'carnation', 'shells', 'alaska', 'mural', '4 ft', 'numbers', 'giraffe', 'avocado', 'foggy', 'landing', 'mosaic', 'us air force', 'to left', 'riding horse', '26', 'cat', 'time', 'soap', 'baseball glove', 'pickles', 'mirror', 'urinal', 'telephone', 'couple', 'lab', '4 inches', '10:25', 'paw', 'mall', 'checkered', '1', 'soon', 'laptop', 'couch', 'kites', 'coffee maker', 'tall', 'toiletries', 'street light', '0', 'stickers', 'asleep', 'sports', 'relaxing', 'red and green', 'christmas', 'straight ahead', 'spider', 'river', 'ireland', 'bottom', 'mariners', 'savannah', 'laughing', 'shorter', 'shower', 'computers', 'cluttered', 'air france', 'frosting', 'alps', 'beagle', 'motorola', 'bin', 'solid', 'normal', '7:10', 'lexus', 'teacher', 'choppy', 'neck', 'cosmo', 'apartment', 'linoleum', 'sushi', 'utensils', 'screen', '27', 'orioles', 'sandwich', 'air conditioner', 'raft', 'paddle', 'bandana', 'photo', '4', 'cactus', 'overalls', 'motorbike', 'nokia', 'playing tennis', 'sweatshirt', 'pool', 'in motion', 'virgin atlantic', 'parade', 'air canada', 'mom', 'supreme', 'blinders', 'helmets', 'referee', 'chandelier', '6 inches', 'coleslaw', 'shape', 'reins', 'garden', 'pizza', 'parked', 'spaghetti', 'train', 'for fun', 'circus', 'tam', 'only', 'ski boots', 'toothpaste', 'dachshund', 'seaweed', 'blue and green', '52', 'lime', 'dump', 'shirt', 'bunny', 'vest', 'prom', 'small', 'lays', 'pancake', 'selling', 'backyard', 'paddling', 'drinking', 'pirates', 'beanie', 'flat', 'yellow', 'short', 'picnic', '100', 'navy', 'thoroughbred', 'windsurfing', '9:05', 'night', 'digital', 'tinkerbell', 'batter', 'bush', 'cereal', 'taking off', 'dog', 'horns', 'on plane', 'station', 'bow tie', 'private', 'kid', 'holding phone', 'surfing', 'curb', 'bib', 'toilet brush', 'natural', 'zucchini', 'sideways', 'tired', 'in corner', 'traveling', 'ferry', 'scania', '64', 'speakers', 'geese', 'guitar', 'feeding', 'jeep', 'checkerboard', 'feeder', 'ice cream', 'nursing', 'fireman', 'germany', 'tables', 'walking', 'cargo', 'scenery', 'ivory', 'sticks', 'purple', 'white house', 'british airways', \"men's\", 'drying', 'cell', 'pee', 'blue and black', 'bear', 'palm tree', 'circles', 'classic', 'cord', 'siamese', 'polar', 'woman', 'floral', 'catching frisbee', 'helmet', 'freezer', '1 4', 'china airlines', 'grandfather', 'suitcase', 'little', 'clock', 'microsoft', 'parsley', 'spices', 'squares', 'taking selfie', 'right 1', '870', 'sticker', 'posing', 'in middle', 'laptops', 'bricks', '15 feet', 'men', 'married', 'boats', 'ankle', 'twins', 'new york', 'love', 'stop', 'spoons', 'mustache', 'front', 'ram', 'boat', 'arizona', 'few', 'canada', 'farmer', 'plates', 'clams', 'mint', 'limes', 'burton', 'ottoman', '4:05', 'catholic', 'sheepdog', 'snowboarder', 'tissues', 'indian', 'canon', 'snow', 'lanyard', 'dodge', 'holding umbrella', 'white and brown', '12:50', 'audi', 'desk', 'cows', 'backwards', 'grapefruit', 'hello kitty', 'age', '25', 'harley', 'adults', 'shirt and tie', 'still', 'cutting board', '2013', 'ears', 'pipes', 'to get to other side', 'colorado', 'winnie pooh', 'hiding', 'speed limit', 'mouthwash', 'typing', 'dome', 'green and red', 'bracelet', 'machine', 'mouse pad', 'keys', '1:00', 'finger', 'backhand', 'tractor', 'balloons', 'bat', 'lot', 'climbing', 'top left', 'deep', 'formal', 'parrot', 'bars', 'awake', 'refrigerator', 'white and black', 'upside down', 'farmers market', 'puma', 'ponytail', 'eggs', 'staring', 'counter', 'kite', 'toothpick', 'feathers', 'radio', 'skeleton', 'target', 'jump', 'krispy kreme', 'weeds', 'wii controller', 'visibility', 'swirls', 'mushrooms', '9:20', 'on tracks', '8:05', 'dirt', 'plastic wrap', 'pink and black', 'raspberries', '50', 'dead', 'winter', 'nothing', 'semi', 'father', 'full', '38', '5', 'years', 'queen', 'pepperoni', 'pumpkin', 'tan', 'toothbrushes', '7:25', 'skatepark', 'paris', 'indoors', '17', 'glaze', 'sailboats', 'man on left', 'baker', '1 year', 'police officer', 'stomach', 'angels', '10:50', 'human', 'dugout', 'for balance', 'vaio', 'behind bus', 'man on right', 'ketchup', 'spots', 'peacock', 'dots', 'husky', 'directions', 'palm', 'rugby', 'spanish', 'cutting cake', 'barrel', 'triangles', 'briefcase', 'boxer', 'remote control', '5:45', 'rope', '5:15', 'oriental', 'modern', 'thin', '9', 'junk', '2 men', 'keyboard', 'space needle', 'gmc', 'analog', 'soup', 'glasses', 'clouds', 'players', 'jar', 'sidecar', 'several', 'styrofoam', 'penguin', 'cutting hair', 'dark', 'tongs', '700', 'butt', 'berries', 'no flag', 'serious', 'peach', 'sofa', 'coffee cup', 'egg', 'ring', 'red and silver', 'blurry', 'no number', 'conference', 'chiquita', 'tulip', 'hose', 'r', 'earrings', 'broadway', 'indoor', 'student', '11', 'corgi', 'beer', 'intersection', 'on shore', 'buffalo', 'america', 'curious', 'cast iron', 'on counter', 'serve', 'clay', 'waves', 'gray and red', 'tag', 'motocross', 'pelicans', 'railroad crossing', 'google', 'volkswagen', 'copper', \"it's not\", 'lilac', '5:10', 'reflection', 'go', 'paint', 'hitting ball', 'skull', 'playing soccer', 'on fridge', 'arriving', '2:25', 'medium', 'desserts', 'flip flops', 'skyscraper', 'k', 'jal', 'boardwalk', 'pictures', 'recessed', 'cadillac', 'outdoors', 'printer', 'hotel room', 'toronto', 'television', '106', 'deli', 'teal', 'road', 'paisley', '8', 'birds', 'lily', 'playing video games', 'broom', 'domestic', 'baskets', 'yellow and orange', 'leather', 'fruits', 'roll', 'swimming', 'down street', 'butter', 'parmesan cheese', 'british', 'la', 'mt airy', 'cupcakes', 'woodpecker', 'switzerland', 'green', 'back left', 'hospital', 'on plate', 'water skiing', 'smiling', 'base', 'pen', 'green beans', 'sony', 'name tag', 'letters', 'turkey', 'bagel', 'tires', 'nest', 'pavement', 'video', 'far right', 'easton', 'weather vane', 'powdered sugar', 'pacific', 'tow', 'nissan', 'exhaust', 'faucet', 'wave', 'footprints', 'looking at camera', 'under table', 'mountain dew', 'chains', 'kicking', 'on suitcase', 'doughnut', 'first base', 'arch', 'stadium', 'clothes', 'on boat', 'east', 'boarding', 'hilly', 'market', 'statue', 'diet coke', 'book', 'very high', '14', 'no sign', 'plain', 'gravy', 'red and gray', 'silver', 'picture', 'throwing frisbee', 'corona', 'chinese', 'daffodils', \"st patrick's day\", 'working', 'fog', 'words', 'headband', 'pancakes', 'mack', 'basil', 'bible', 'cement', 'driveway', 'paddle boarding', 'hitting', 'birthday party', 'baggage claim', 'cover', 'laying', 'bark', 'drive', 'candy', 'raspberry', 'name', 'soccer', 'coats', 'skate', '1:15', 'rubber', 'bored', 'soldiers', 'nike', 'fire', 'evening', 'lamps', 'red and black', 'king', 'napkins', 'african american', 'wilson', 'best buy', 'houses', 'zig zag', 'catcher', 'morning', 'army', 'turn right', 'court', 'camper', '5 ft', 'dunkin donuts', 'coffee pot', 'take off', 'hungry', '1950', 'cold', '4:20', 'ostrich', 'on woman', 'kite string', 'sweat', 'waffle', 'tents', 'bow', 'sepia', 'black', 'condiments', 'cabinet', 'sink', 'ups', 'jetblue', 'shut', 'ge', '7:00', 'no 1', 'pink and yellow', 'watch', 'bone', 'owl', 'in bowl', 'on top', 'jacket', 'city', 'trains', 'rocky', 'people', 'sesame seeds', 'basketball', 'athletics', 'camping', 'spray paint', '2:10', 'pizza cutter', 'bathing suit', 'hay', 'toyota', 'curtains', 'polka dots', 'c', '2:55', 'tabby', 'bnsf', 'virgin', 'bamboo', 'on floor', 'style', 'hot dog', 'shelter', '13', 'cooking', 'pier', 'on rack', 'futon', 'light', 'color', 'dresser', 'lighthouse', '9:45', 'trailer', 'flying kite', 'remodeling', 'leaning', 'bushes', 'controllers', 'thanksgiving', 'cell phones', 'umbrellas', 'v', 'india', 'stop sign', 'sailboat', '60', 'bikers', 'white and blue', 'multi colored', 'mane', 'buttons', '10:10', 'red and white', 'yacht', 'ping pong', '16', '12:30', '2 feet', 'happy', 'car', 'looking', 'sunlight', 'stroller', 'painting', 'sedan', 'multicolored', 'kitchenaid', 'closed', 'square', 'surfboard', 'herding', 'on motorcycle', 'new', 'black white', 'collar', 'tennis court', \"it isn't\", '000', 'on sink', 'residential', 'in air', '36', 'on grass', 'parakeet', '3:55', '101', 'cabinets', 'halloween', 'striped', '2:45', 'coach', '4 way', '4:50', 'tennis player', 'hawaiian', '3:25', 'conductor', 'chips', 'slope', '1st', 'tail', 'blue', 'texting', 'straw', 'ladybug', '11:35', 'factory', '9:50', 'map', 'on bike', 'hugging', 'cap', '3 inches', 'telling time', 'on bus', '41', 'bacon', 'grinding', 'information', 'cups', 'tennis shoes', 'gate', 'waiting', 'red velvet', '20', '21', 'mutt', 'cats', 'eat', 'can', 'speaker', 'texas', 'rust', 'pitching', 'in grass', 'boy', 'elephant', 'dump truck', 'banana peel', 'surf', 'legos', 'magnet', 'unclear', 'peaches', 'iphone', 'anniversary', '1 in middle', 'seeds', '80', 'balls', 'finch', '2:50', \"don't walk\", 'dim', 'on chair', 'house', 'window sill', 'man made', '2nd', 'billabong', 'stove', 'macaroni', 'birthday', 'teeth', 'breakfast', '24', 'snowboarding', 'corn', 'very old', 'on right', 'wheelchair', 'ginger', 'tying tie', 'flowers', '50 feet', 'cardinals', 'iris', 'veggie', 'lg', 'furniture', 'fox', 'war', 'cheesecake', 'schnauzer', 'sleeve', 'doll', 'korean air', 'traffic light', 'tags', 'lobster', 'planes', 'herself', 'olympics', '2011', 'vegetable', 'earbuds', 'mayo', 'unsure', 'granite', 'poles', 'grassy', 'surprised', 'tiger', 'high heels', 'blankets', 'catch', '6:35', 'thumb', 'sauce', 'europe', 'flags', 'yarn', 'cameraman', 'robin', 'mac', 'csx', 'building', '43', 'rolex', 'san francisco', 'toaster', '4:40', 'heater', 'bikes', 'guitar hero', 'antique', 'bike', '1:40', 'talking on phone', 'sas', 'chrome', 'chicago', '5:50', 'zebra and giraffe', 'under tree', 'eyes', 'left', '150', 'do not enter', 'glove', 'strike', 'leg', 'doughnuts', 'thai', 'yield', 'skateboards', 'ambulance', 'grizzly', 'cocker spaniel', 'on pizza', 'no parking', 'welcome', 'bridle', 'farm', 'hamburger', 'tunnel', 'ear'}\n",
      "test.txt에 있지만 answer2label_original.txt에는 없는 값: {'\"pickle\"', '\"chihuahua\"', '\"rain\"', '\"taking off\"', '\"playing video game\"', '\"basketball\"', '\"dry\"', '\"54\"', '\"kodak\"', '\"red, white, and blue\"', '\"woman\\'s\"', '\"no cat\"', '\"lamp\"', '\"hiding\"', '\"tim hortons\"', '\"in cabbage town\"', '\"kids\"', '\"pie\"', '\"town\"', '\"flags\"', '\"tired\"', '\"background\"', '\"powdered\"', '\"clydesdale\"', '\"westjet\"', '\"fishing\"', '\"landscape\"', '\"brewers\"', '\"granite\"', '\"csx\"', '\"guitar\"', '\"cilantro\"', '\"pilot\"', '\"dreadlocks\"', '\"baggage claim\"', '\"footprints\"', '\"flower\"', '\"tree\"', '\"horseback riding\"', '\"men\\'s\"', '\"bulldog\"', '\"htc\"', '\"equestrian\"', '\"airport\"', '\"fire hydrant\"', '\"rock\"', '\"cone\"', '\"thumbs up\"', '\"girls\"', '\"ottoman\"', '\"banana\"', '\"daffodils\"', '\"toilet brush\"', '\"tropical\"', '\"cloudy\"', '\"am\"', '\"dell\"', '\"magazines\"', '\"happiness\"', '\"balls\"', '\"control\"', '\"boston\"', '\"us airways express\"', '\"monday\"', '\"telephone\"', '\"turtle\"', '\"jump\"', '\"he isn\\'t\"', '\"in\"', '\"donut\"', '\"banana peel\"', '\"4 feet\"', '\"polar bear\"', '\"marina\"', '\"towels\"', '\"can\\'t see it\"', '\"stop\"', '\"condiments\"', '\"phillies\"', '\"syrup\"', '\"male\"', '\"poor\"', '\"coaster\"', '\"4 inches\"', '\"white and orange\"', '\"boot\"', '\"blood\"', '\"over easy\"', '\"intersection\"', '\"bar\"', '\"calendar\"', '\"hitting ball\"', '\"base\"', '\"pastry\"', '\"red velvet\"', '\"sauce\"', '\"verizon\"', '\"on desk\"', '\"red white blue\"', '\"storage\"', '\"oars\"', '\"leash\"', '\"seattle\"', '\"many\"', '\"peas\"', '\"zig zag\"', '\"watch tv\"', '\"burton\"', '\"rural\"', '\"flying kites\"', '\"ice cream\"', '\"website\"', '\"counter\"', '\"dark\"', '\"ipod\"', '\"handlebars\"', '\"globe\"', '\"on napkin\"', '\"dump truck\"', '\"arrow\"', '\"outside\"', '\"cameraman\"', '\"book\"', '\"hawk\"', '\"no plate\"', '\"skiing\"', '\"styrofoam\"', '\"music\"', '\"fake\"', '\"platform\"', '\"red, white, blue\"', '\"caucasian\"', '\"air conditioner\"', '\"dr pepper\"', '\"shells\"', '\"shampoo\"', '\"san diego\"', '\"fluffy\"', '\"gym\"', '\"motor\"', '\"stuffed\"', '\"870\"', '\"fork and knife\"', '\"newspaper\"', '\"using computer\"', '\"lacoste\"', '\"200\"', '\"camo\"', '\"belt\"', '\"on tray\"', '\"one in back\"', '\"black and orange\"', '\"swimming\"', '\"lift\"', '\"china\"', '\"commuter\"', '\"boy\"', '\"floral\"', '\"child\"', '\"earrings\"', '\"lying down\"', '\"italy\"', '\"wristband\"', '\"windsurfing\"', '\"computers\"', '\"in box\"', '\"butt\"', '\"siamese\"', '\"tennis player\"', '\"flip flops\"', '\"boat\"', '\"cirrus\"', '\"soldiers\"', '\"wheels\"', '\"soda\"', '\"tow truck\"', '\"no hat\"', '\"kitchenaid\"', '\"parking\"', '\"3rd\"', '\"sniffing\"', '\"very old\"', '\"soon\"', '\"clams\"', '\"for photo\"', '\"cardinals\"', '\"opponent\"', '\"english\"', '\"sweet\"', '\"log\"', '\"hills\"', '\"on phone\"', '\"pavement\"', '\"lays\"', '\"parked\"', '\"heavy\"', '\"fork and spoon\"', '\"anniversary\"', '\"in sink\"', '\"desert\"', '\"cafe\"', '\"welcome\"', '\"citizen\"', '\"ivory\"', '\"germany\"', '\"going\"', '\"khaki\"', '\"pepsi\"', '\"handicap\"', '\"post\"', '\"cranes\"', '\"ski poles\"', '\"taking picture\"', '\"animals\"', '\"futon\"', '\"life jacket\"', '\"carrots\"', '\"little girl\"', '\"herd\"', '\"shelter\"', '\"london\"', '\"yellow and white\"', '\"checkers\"', '\"iron\"', '\"doubles\"', '\"harley\"', '\"mustache\"', '\"puma\"', '\"cotton\"', '\"exhaust\"', '\"name\"', '\"hockey\"', '\"blue and white\"', '\"biking\"', '\"decoration\"', '\"nightstand\"', '\"traffic\"', '\"door\"', '\"6 inches\"', '\"mitt\"', '\"bottom\"', '\"mushrooms\"', '\"5 feet\"', '\"pedestal\"', '\"buildings\"', '\"index\"', '\"under table\"', '\"new orleans\"', '\"statues\"', '\"twins\"', '\"french fries\"', '\"female\"', '\"posts\"', '\"1990\"', '\"chains\"', '\"leaving\"', '\"coat\"', '\"11', '\"stability\"', '\"lanes\"', '\"stainless steel\"', '\"black and silver\"', '\"texting\"', '\"suit\"', '\"street name\"', '\"bible\"', '\"van\"', '\"3\"', '\"shelf\"', '\"very fast\"', '\"23\"', '\"cleaning\"', '\"goalie\"', '\"5 ft\"', '\"logitech\"', '\"victoria\"', '\"parmesan\"', '\"10', '\"tow\"', '\"green and blue\"', '\"outfield\"', '\"clothes\"', '\"lighting\"', '\"hot\"', '\"summer\"', '\"on ground\"', '\"basket\"', '\"castle\"', '\"soccer ball\"', '\"ford\"', '\"japan\"', '\"vest\"', '\"star wars\"', '\"red sox\"', '\"28\"', '\"baby\"', '\"ladybug\"', '\"flip phone\"', '\"willow\"', '\"foreground\"', '\"68\"', '\"skateboards\"', '\"blue team\"', '\"throw frisbee\"', '\"50\"', '\"kayaking\"', '\"lettuce\"', '\"turkey\"', '\"driver\"', '\"badminton\"', '\"cigarettes\"', '\"bamboo\"', '\"hawaii\"', '\"atv\"', '\"spring\"', '\"bikes\"', '\"wind\"', '\"nowhere\"', '\"chimney\"', '\"wallet\"', '\"recliner\"', '\"neither\"', '\"dalmatian\"', '\"caution\"', '\"cooked\"', '\"sheet\"', '\"briefcase\"', '\"brown\"', '\"smooth\"', '\"benches\"', '\"kite string\"', '\"holding phone\"', '\"8\"', '\"on right\"', '\"paddle boarding\"', '\"bedroom\"', '\"120\"', '\"windsor\"', '\"side of road\"', '\"foam\"', '\"mets\"', '\"celery\"', '\"16\"', '\"leg\"', '\"fireplace\"', '\"tank top\"', '\"conference\"', '\"owner\"', '\"mitsubishi\"', '\"collage\"', '\"prom\"', '\"hand\"', '\"out of focus\"', '\"in sky\"', '\"right hand\"', '\"texas\"', '\"napkin\"', '\"dodge\"', '\"zebra and giraffe\"', '\"defense\"', '\"blue jay\"', '\"land\"', '\"rye\"', '\"61\"', '\"reading\"', '\"fruit\"', '\"man on right\"', '\"hauling\"', '\"no sign\"', '\"opaque\"', '\"museum\"', '\"theater\"', '\"school bus\"', '\"motorcycles\"', '\"hoodie\"', '\"style\"', '\"umbrellas\"', '\"cart\"', '\"raspberry\"', '\"yard\"', '\"rugby\"', '\"visilab\"', '\"bun\"', '\"ice\"', '\"polka dots\"', '\"store\"', '\"homemade\"', '\"kitten\"', '\"main street\"', '\"vaio\"', '\"at table\"', '\"focus\"', '\"8', '\"orioles\"', '\"meow\"', '\"bakery\"', '\"travel\"', '\"russian\"', '\"playing wii\"', '\"bat\"', '\"black and yellow\"', '\"shell\"', '\"burrito\"', '\"bone\"', '\"squirrel\"', '\"king\"', '\"kangaroo\"', '\"cheesecake\"', '\"e\"', '\"sideways\"', '\"white and brown\"', '\"eagle\"', '\"sweatband\"', '\"tabby\"', '\"shearing\"', '\"buoys\"', '\"hood\"', '\"backyard\"', '\"fluorescent\"', '\"watch\"', '\"pirate\"', '\"don\\'t know\"', '\"standing\"', '\"multi colored\"', '\"kickstand\"', '\"print\"', '\"porcelain\"', '\"sticks\"', '\"oil\"', '\"dad\"', '\"tiled\"', '\"pug\"', '\"player\"', '\"skate park\"', '\"no dog\"', '\"orange\"', '\"michigan\"', '\"balcony\"', '\"open\"', '\"snowboard\"', '\"vines\"', '\"bunt\"', '\"limes\"', '\"in cup\"', '\"square\"', '\"trash\"', '\"oval\"', '\"serious\"', '\"parking garage\"', '\"mississippi\"', '\"tractor\"', '\"donuts\"', '\"volleyball\"', '\"bracelet\"', '\"speaker\"', '\"books\"', '\"buoy\"', '\"emergency\"', '\"evening\"', '\"sandals\"', '\"african\"', '\"spectators\"', '\"knee pads\"', '\"skate\"', '\"34\"', '\"no left turn\"', '\"silver and black\"', '\"tower\"', '\"on toilet\"', '\"shut\"', '\"parasailing\"', '\"rail\"', '\"white and pink\"', '\"gravy\"', '\"scale\"', '\"on skateboard\"', '\"wine tasting\"', '\"oar\"', '\"tank\"', '\"shape\"', '\"to right\"', '\"lion\"', '\"on shore\"', '\"laundry\"', '\"outdoor\"', '\"tarmac\"', '\"face\"', '\"rope\"', '\"board\"', '\"snowing\"', '\"on plate\"', '\"bathtub\"', '\"cocker spaniel\"', '\"cloth\"', '\"suitcases\"', '\"navy\"', '\"coach\"', '\"sauerkraut\"', '\"in vase\"', '\"leather\"', '\"room\"', '\"sweet potato\"', '\"analog\"', '\"teddy\"', '\"yellow\"', '\"baseball glove\"', '\"transport\"', '\"butterfly\"', '\"tea\"', '\"red bull\"', '\"conference room\"', '\"checkered\"', '\"air force\"', '\"apple and banana\"', '\"in basket\"', '\"tree branch\"', '\"posing\"', '\"fruits\"', '\"hardwood\"', '\"remote\"', '\"paved\"', '\"icing\"', '\"doll\"', '\"hot dogs\"', '\"ski lift\"', '\"behind clouds\"', '\"hilly\"', '\"glove\"', '\"bull\"', '\"horizontal\"', '\"cutting cake\"', '\"city\"', '\"prince\"', '\"behind\"', '\"3', '\"cap\"', '\"hamburger\"', '\"wide\"', '\"yes\"', '\"young\"', '\"father\"', '\"roses\"', '\"halloween\"', '\"dead end\"', '\"united\"', '\"parsley\"', '\"top hat\"', '\"1/4\"', '\"cantaloupe\"', '\"peanuts\"', '\"t\"', '\"to see\"', '\"america\"', '\"avocado\"', '\"victorian\"', '\"snowsuit\"', '\"paper towels\"', '\"dog bed\"', '\"labrador\"', '\"oriental\"', '\"green and red\"', '\"very\"', '\"controller\"', '\"soccer field\"', '\"breakfast\"', '\"forward\"', '\"ball\"', '\"scooter\"', '\"glass\"', '\"urinals\"', '\"five star\"', '\"chevron\"', '\"peach\"', '\"straw\"', '\"cookies\"', '\"food processor\"', '\"maple\"', '\"flying\"', '\"direction\"', '\"ring finger\"', '\"out\"', '\"sugar\"', '\"train car\"', '\"toshiba\"', '\"scania\"', '\"stork\"', '\"males\"', '\"crosstown\"', '\"kenmore\"', '\"dress\"', '\"cruise ship\"', '\"balloons\"', '\"switzerland\"', '\"watermelon\"', '\"time\"', '\"baseball game\"', '\"american airlines\"', '\"behind bench\"', '\"straight ahead\"', '\"noodles\"', '\"logs\"', '\"google\"', '\"sleeve\"', '\"american flag\"', '\"on fridge\"', '\"boots\"', '\"sneakers\"', '\"ladder\"', '\"vases\"', '\"denim\"', '\"cat\"', '\"railroad crossing\"', '\"bottom left\"', '\"toast\"', '\"taking selfie\"', '\"street\"', '\"women\\'s\"', '\"grilled\"', '\"alligator\"', '\"tiger\"', '\"winnie pooh\"', '\"on road\"', '\"moving\"', '\"walgreens\"', '\"painting\"', '\"starbucks\"', '\"1000\"', '\"steak\"', '\"cat and dog\"', '\"thin\"', '\"trains\"', '\"france\"', '\"yellow and orange\"', '\"red and gray\"', '\"north face\"', '\"asleep\"', '\"sprint\"', '\"spoon\"', '\"1st\"', '\"100 year party ct\"', '\"surfboard\"', '\"on tower\"', '\"earring\"', '\"carrot\"', '\"food\"', '\"very long\"', '\"drawer\"', '\"mack\"', '\"gray and white\"', '\"tissue\"', '\"us air force\"', '\"tomato\"', '\"empty\"', '\"map\"', '\"lamb\"', '\"sunflowers\"', '\"angels\"', '\"64\"', '\"not there\"', '\"cook\"', '\"nobody\"', '\"ghost\"', '\"ties\"', '\"in street\"', '\"bear\"', '\"white and blue\"', '\"ribbon\"', '\"stand\"', '\"men\"', '\"elmo\"', '\"rodeo\"', '\"pumpkin\"', '\"bathroom\"', '\"grassy\"', '\"iphone\"', '\"very deep\"', '\"ride\"', '\"green beans\"', '\"storm\"', '\"bench\"', '\"2011\"', '\"grocery\"', '\"women\"', '\"umbrella\"', '\"circles\"', '\"fast\"', '\"feta\"', '\"not likely\"', '\"alaska\"', '\"san francisco\"', '\"on shelf\"', '\"swinging bat\"', '\"yamaha\"', '\"sun\"', '\"rainy\"', '\"rice\"', '\"tuxedo\"', '\"dome\"', '\"spots\"', '\"poop\"', '\"above sink\"', '\"descending\"', '\"poles\"', '\"knife and fork\"', '\"party\"', '\"screen\"', '\"cactus\"', '\"v\"', '\"brand\"', '\"setting\"', '\"main st\"', '\"crown\"', '\"tokyo\"', '\"forest\"', '\"camper\"', '\"cut\"', '\"yellow and blue\"', '\"lemonade\"', '\"blt\"', '\"christian\"', '\"tomatoes\"', '\"carriage\"', '\"ducks\"', '\"spices\"', '\"goose\"', '\"student\"', '\"vacation\"', '\"fried\"', '\"hammer time\"', '\"numbers\"', '\"stopping\"', '\"4\"', '\"sunbathing\"', '\"stop light\"', '\"foggy\"', '\"pots\"', '\"highway\"', '\"water ski\"', '\"triumph\"', '\"pear\"', '\"350\"', '\"ear\"', '\"medium\"', '\"kawasaki\"', '\"pancakes\"', '\"almonds\"', '\"flood\"', '\"photography\"', '\"bank of america\"', '\"give way\"', '\"birthday cake\"', '\"700\"', '\"asphalt\"', '\"swiss\"', '\"camera\"', '\"aa\"', '\"wheelchair\"', '\"cake\"', '\"multiple\"', '\"jacket\"', '\"egg\"', '\"rubber\"', '\"pink and blue\"', '\"license plate\"', '\"kayak\"', '\"hammock\"', '\"size\"', '\"ascending\"', '\"in his hand\"', '\"bin\"', '\"sliced\"', '\"blue\"', '\"mt airy\"', '\"riding elephant\"', '\"harness\"', '\"in motion\"', '\"1 hour\"', '\"quilt\"', '\"wetsuits\"', '\"towel\"', '\"elm\"', '\"stripes\"', '\"not at all\"', '\"pork\"', '\"boxer\"', '\"palm tree\"', '\"bored\"', '\"cucumber\"', '\"desserts\"', '\"flickr\"', '\"junk\"', '\"more\"', '\"phone\"', '\"congratulations\"', '\"36\"', '\"j\"', '\"easter\"', '\"on laptop\"', '\"motorola\"', '\"news\"', '\"rv\"', '\"catch frisbee\"', '\"blue and pink\"', '\"yogurt\"', '\"hands\"', '\"cigarette\"', '\"laptop\"', '\"airplane\"', '\"play tennis\"', '\"dresser\"', '\"frog\"', '\"onion rings\"', '\"ollie\"', '\"jelly\"', '\"2 years\"', '\"pink and white\"', '\"orchid\"', '\"turning\"', '\"n\"', '\"marble\"', '\"right one\"', '\"fountain\"', '\"boardwalk\"', '\"bud light\"', '\"buses\"', '\"office\"', '\"ireland\"', '\"buttons\"', '\"gothic\"', '\"hummingbird\"', '\"suits\"', '\"mint\"', '\"toyota\"', '\"dole\"', '\"juice\"', '\"golden gate\"', '\"uk\"', '\"audi\"', '\"washington\"', '\"air\"', '\"stands\"', '\"wireless\"', '\"tablet\"', '\"far\"', '\"waving\"', '\"robin\"', '\"dining room\"', '\"on wall\"', '\"catch\"', '\"horizontally\"', '\"video game\"', '\"deer\"', '\"choppy\"', '\"circus\"', '\"crest\"', '\"65\"', '\"300\"', '\"plates\"', '\"football\"', '\"they aren\\'t\"', '\"german\"', '\"one on left\"', '\"bikini\"', '\"beads\"', '\"sailboats\"', '\"red and blue\"', '\"brazil\"', '\"onions\"', '\"calico\"', '\"head\"', '\"kiwi\"', '\"coffee maker\"', '\"washington monument\"', '\"listening to music\"', '\"12 feet\"', '\"pedestrian crossing\"', '\"ground\"', '\"green and yellow\"', '\"center\"', '\"bus driver\"', '\"vans\"', '\"curtains\"', '\"rooster\"', '\"police officer\"', '\"volkswagen\"', '\"blue and gray\"', '\"learning\"', '\"saddle\"', '\"display\"', '\"afternoon\"', '\"cage\"', '\"playing video games\"', '\"diamonds\"', '\"toilet\"', '\"samsung\"', '\"bell\"', '\"100\"', '\"26\"', '\"on boat\"', '\"la\"', '\"hot sauce\"', '\"sleep\"', '\"salad\"', '\"15\"', '\"jackets\"', '\"sprite\"', '\"track\"', '\"brown and black\"', '\"potatoes\"', '\"sony\"', '\"downhill\"', '\"tv\"', '\"dirt\"', '\"polka dot\"', '\"oregon\"', '\"ibm\"', '\"croissant\"', '\"shade\"', '\"protest\"', '\"steering wheel\"', '\"canada\"', '\"soldier\"', '\"morning\"', '\"reins\"', '\"silver and red\"', '\"all way\"', '\"russia\"', '\"cup\"', '\"kicking\"', '\"tube\"', '\"calm\"', '\"donut shop\"', '\"table\"', '\"lifeguard\"', '\"singles\"', '\"half full\"', '\"good\"', '\"10 feet\"', '\"curious\"', '\"wooden\"', '\"sesame\"', '\"chinese\"', '\"lid\"', '\"coffee cup\"', '\"7\"', '\"brushing her teeth\"', '\"ambulance\"', '\"pink and black\"', '\"playing game\"', '\"cabinets\"', '\"day\"', '\"ana\"', '\"mango\"', '\"santa hat\"', '\"duck\"', '\"sailing\"', '\"on bike\"', '\"spanish\"', '\"athletics\"', '\"left and right\"', '\"magazine\"', '\"18\"', '\"new\"', '\"106\"', '\"orange and blue\"', '\"stagecoach\"', '\"dirty\"', '\"married\"', '\"fresh\"', '\"students\"', '\"slide\"', '\"notes\"', '\"england\"', '\"cds\"', '\"under armour\"', '\"savory\"', '\"fanta\"', '\"batter\"', '\"tater tots\"', '\"bike\"', '\"words\"', '\"wildebeest\"', '\"propeller\"', '\"taking pictures\"', '\"piano\"', '\"dishwasher\"', '\"remote control\"', '\"bowling\"', '\"soccer\"', '\"looking at phone\"', '\"rectangle\"', '\"comcast\"', '\"dessert\"', '\"rust\"', '\"using laptop\"', '\"17\"', '\"red white and blue\"', '\"standing still\"', '\"on woman\"', '\"floating\"', '\"cartoon\"', '\"tigers\"', '\"machine\"', '\"water skiing\"', '\"feeder\"', '\"potato\"', '\"2010\"', '\"sink\"', '\"bending\"', '\"oranges\"', '\"evergreen\"', '\"roundabout\"', '\"whipped cream\"', '\"organic\"', '\"close up\"', '\"valentine\\'s day\"', '\"away\"', '\"scissors\"', '\"deck\"', '\"warmth\"', '\"onion\"', '\"ginger\"', '\"noon\"', '\"snowflakes\"', '\"30\"', '\"sewing\"', '\"police\"', '\"crocs\"', '\"linoleum\"', '\"converse\"', '\"blue and orange\"', '\"skier\"', '\"frame\"', '\"concert\"', '\"mouth\"', '\"metal\"', '\"dirt bike\"', '\"swimsuit\"', '\"pencil\"', '\"arriving\"', '\"wrist\"', '\"foil\"', '\"monster\"', '\"landing\"', '\"cast iron\"', '\"fisheye\"', '\"mouthwash\"', '\"beach\"', '\"for balance\"', '\"on top\"', '\"ship\"', '\"shirt and tie\"', '\"purple and white\"', '\"taking photo\"', '\"wine glasses\"', '\"cannot tell\"', '\"oven\"', '\"wavy\"', '\"pasture\"', '\"mug\"', '\"21\"', '\"reflection\"', '\"not here\"', '\"entering\"', '\"tie dye\"', '\"wedding\"', '\"in grass\"', '\"ski boots\"', '\"pine\"', '\"bank\"', '\"baseball\"', '\"waffle\"', '\"mirror\"', '\"daffodil\"', '\"skeleton\"', '\"eyes\"', '\"gate\"', '\"shower head\"', '\"back\"', '\"information\"', '\"doughnut\"', '\"string\"', '\"cats\"', '\"cargo\"', '\"27\"', '\"engine\"', '\"lexus\"', '\"9\"', '\"cleats\"', '\"australia\"', '\"cheese\"', '\"sand\"', '\"microwave\"', '\"african american\"', '\"hsbc\"', '\"cow\"', '\"car\"', '\"mountains\"', '\"bottles\"', '\"suzuki\"', '\"antelope\"', '\"hospital\"', '\"parade\"', '\"wet\"', '\"palm trees\"', '\"pipe\"', '\"backwards\"', '\"bandana\"', '\"mattress\"', '\"hanger\"', '\"spiral\"', '\"shaved\"', '\"after\"', '\"faucet\"', '\"sunset\"', '\"dodgers\"', '\"wing\"', '\"crossing\"', '\"purse\"', '\"not high\"', '\"wii remotes\"', '\"second\"', '\"safe\"', '\"carrot cake\"', '\"swing\"', '\"army\"', '\"dead\"', '\"59\"', '\"beans\"', '\"virgin atlantic\"', '\"shower\"', '\"raft\"', '\"clock tower\"', '\"2008\"', '\"garlic\"', '\"construction\"', '\"in car\"', '\"do not enter\"', '\"tall\"', '\"clip\"', '\"legos\"', '\"under sink\"', '\"licking\"', '\"gatorade\"', '\"s\"', '\"broccoli and carrots\"', '\"wax paper\"', '\"2.00\"', '\"baseball field\"', '\"gone\"', '\"pink\"', '\"us\"', '\"coffee\"', '\"sports\"', '\"fog\"', '\"19\"', '\"miami\"', '\"on building\"', '\"privacy\"', '\"savannah\"', '\"bicycle\"', '\"rack\"', '\"wool\"', '\"48\"', '\"tell time\"', '\"yarn\"', '\"safari\"', '\"bush\"', '\"surfer\"', '\"one in middle\"', '\"windmill\"', '\"harbor\"', '\"kitchen\"', '\"plate\"', '\"catching\"', '\"unsure\"', '\"church\"', '\"no water\"', '\"wall\"', '\"clay\"', '\"domestic\"', '\"babies\"', '\"picnic\"', '\"illinois\"', '\"bus\"', '\"concrete\"', '\"bags\"', '\"raspberries\"', '\"signs\"', '\"2013\"', '\"mountainous\"', '\"lighthouse\"', '\"old\"', '\"graduation\"', '\"relish\"', '\"bunny\"', '\"against wall\"', '\"alcohol\"', '\"suitcase\"', '\"tracks\"', '\"millions\"', '\"side\"', '\"nighttime\"', '\"net\"', '\"mayo\"', '\"tv stand\"', '\"motel\"', '\"turn\"', '\"hugging\"', '\"venice\"', '\"papers\"', '\"friend\"', '\"honey\"', '\"visibility\"', '\"balloon\"', '\"bow tie\"', '\"hair\"', '\"orange and white\"', '\"no\"', '\"66\"', '\"brown and white\"', '\"coke\"', '\"clock\"', '\"woods\"', '\"2 hours\"', '\"american\"', '\"champagne\"', '\"bag\"', '\"on train\"', '\"11\"', '\"deli\"', '\"spider\"', '\"4 ft\"', '\"veggie\"', '\"roast beef\"', '\"20\"', '\"united states\"', '\"xbox\"', '\"jungle\"', '\"cycling\"', '\"motorbike\"', '\"delta\"', '\"chairs\"', '\"mask\"', '\"trailer\"', '\"blankets\"', '\"bike rack\"', '\"56\"', '\"road\"', '\"steamed\"', '\"husky\"', '\"riding horse\"', '\"to catch ball\"', '\"for fun\"', '\"ny\"', '\"easy\"', '\"ski pole\"', '\"working\"', '\"on beach\"', '\"baseball uniform\"', '\"tools\"', '\"socks\"', '\"one world\"', '\"pens\"', '\"red, white and blue\"', '\"seafood\"', '\"ducati\"', '\"chicken\"', '\"selfie\"', '\"digital\"', '\"shih tzu\"', '\"each other\"', '\"72\"', '\"red and yellow\"', '\"tents\"', '\"skatepark\"', '\"far right\"', '\"nest\"', '\"bottle\"', '\"nuts\"', '\"confused\"', '\"omelet\"', '\"delivery\"', '\"dog and cat\"', '\"penne\"', '\"bib\"', '\"can\\'t see\"', '\"on left\"', '\"riding\"', '\"wagon\"', '\"can\"', '\"man\\'s\"', '\"country\"', '\"trunks\"', '\"lemon\"', '\"florida\"', '\"robot\"', '\"yellow and red\"', '\"14\"', '\"in snow\"', '\"heels\"', '\"trunk\"', '\"cream\"', '\"very tall\"', '\"container\"', '\"liquor\"', '\"trolley\"', '\"dim\"', '\"warning\"', '\"on\"', '\"39\"', '\"one in front\"', '\"pastries\"', '\"pitcher\"', '\"advertisement\"', '\"tires\"', '\"home plate\"', '\"bronze\"', '\"apples\"', '\"talking on phone\"', '\"shed\"', '\"on track\"', '\"rolex\"', '\"photograph\"', '\"salt\"', '\"catching frisbee\"', '\"plastic\"', '\"candy\"', '\"napkins\"', '\"7 eleven\"', '\"on suitcase\"', '\"smile\"', '\"basil\"', '\"thai\"', '\"heat\"', '\"amtrak\"', '\"metro\"', '\"mario\"', '\"nothing\"', '\"ceiling\"', '\"gas\"', '\"cups\"', '\"grind\"', '\"state farm\"', '\"back left\"', '\"bacon\"', '\"kia\"', '\"nose\"', '\"tag\"', '\"tub\"', '\"unknown\"', '\"5\"', '\"indoors\"', '\"butter\"', '\"on bench\"', '\"sad\"', '\"corgi\"', '\"patio\"', '\"headband\"', '\"half\"', '\"listening\"', '\"clouds\"', '\"finch\"', '\"dishes\"', '\"2nd\"', '\"asian\"', '\"nursing\"', '\"tennis racquet\"', '\"union station\"', '\"vests\"', '\"on street\"', '\"dairy queen\"', '\"watching\"', '\"headphones\"', '\"small\"', '\"me\"', '\"festival\"', '\"47\"', '\"parmesan cheese\"', '\"on water\"', '\"directions\"', '\"alive\"', '\"garage\"', '\"tusks\"', '\"drink\"', '\"little\"', '\"off\"', '\"above door\"', '\"field\"', '\"herself\"', '\"43\"', '\"regular\"', '\"no 1\"', '\"mailbox\"', '\"pickup\"', '\"bidet\"', '\"on plane\"', '\"sausage\"', '\"exit\"', '\"no shirt\"', '\"busy\"', '\"gold\"', '\"bananas\"', '\"vegetable\"', '\"desktop\"', '\"river\"', '\"blender\"', '\"curly\"', '\"wallpaper\"', '\"on rack\"', '\"black and blue\"', '\"himself\"', '\"37\"', '\"target\"', '\"whole\"', '\"scratching\"', '\"hiking\"', '\"power lines\"', '\"radio\"', '\"military\"', '\"500\"', '\"tile\"', '\"corn\"', '\"seat\"', '\"grizzly\"', '\"stadium\"', '\"2009\"', '\"baseball player\"', '\"love\"', '\"siblings\"', '\"brushing hair\"', '\"on counter\"', '\"t-shirt\"', '\"joshua\"', '\"girl\"', '\"chips\"', '\"grazing\"', '\"jp morgan\"', '\"racket\"', '\"living\"', '\"black\"', '\"fire extinguisher\"', '\"cylinder\"', '\"petting horse\"', '\"asics\"', '\"camel\"', '\"stairs\"', '\"painted\"', '\"1 year\"', '\"vase\"', '\"pajamas\"', '\"queen\"', '\"whirlpool\"', '\"20 ft\"', '\"salmon\"', '\"waiting\"', '\"tail\"', '\"mud\"', '\"picnic table\"', '\"nike\"', '\"not very\"', '\"apartment\"', '\"fence\"', '\"cell phones\"', '\"west\"', '\"broken\"', '\"fly kite\"', '\"vegetarian\"', '\"spotted\"', '\"silverware\"', '\"bmw\"', '\"seagulls\"', '\"banana split\"', '\"squares\"', '\"33\"', '\"microsoft\"', '\"chair\"', '\"space\"', '\"cool\"', '\"barrel\"', '\"color\"', '\"typing\"', '\"thick\"', '\"team\"', '\"antique\"', '\"cowboy\"', '\"nikon\"', '\"soap\"', '\"ceramic\"', '\"stir fry\"', '\"pizza box\"', '\"tennis shoes\"', '\"fire\"', '\"kitesurfing\"', '\"on dresser\"', '\"in stands\"', '\"spray paint\"', '\"uphill\"', '\"thousands\"', '\"phones\"', '\"zebra\"', '\"branches\"', '\"countryside\"', '\"6', '\"paris\"', '\"business\"', '\"wii controller\"', '\"multicolored\"', '\"spoons\"', '\"white house\"', '\"urinal\"', '\"commercial\"', '\"normal\"', '\"chopsticks\"', '\"stomach\"', '\"plaster\"', '\"spaghetti\"', '\"wheel\"', '\"slope\"', '\"national express\"', '\"he\\'s not\"', '\"cones\"', '\"bus stop\"', '\"reds\"', '\"pacifier\"', '\"daisy\"', '\"0\"', '\"flip\"', '\"smiling\"', '\"farmers\"', '\"used\"', '\"paddling\"', '\"dugout\"', '\"dandelions\"', '\"one way\"', '\"across street\"', '\"kite\"', '\"age\"', '\"black and brown\"', '\"wii remote\"', '\"computer\"', '\"resting\"', '\"diesel\"', '\"elephants\"', '\"street light\"', '\"ram\"', '\"gazebo\"', '\"sydney\"', '\"bricks\"', '\"formal\"', '\"boxes\"', '\"drywall\"', '\"never\"', '\"upright\"', '\"beard\"', '\"semi\"', '\"button up\"', '\"window sill\"', '\"chiquita\"', '\"white and black\"', '\"bridle\"', '\"not sure\"', '\"behind fence\"', '\"recently\"', '\"2 people\"', '\"dog\"', '\"cleaner\"', '\"forks\"', '\"playing baseball\"', '\"wisconsin\"', '\"surfing\"', '\"pitbull\"', '\"skull\"', '\"cherries\"', '\"hotel\"', '\"toothbrushes\"', '\"cuddling\"', '\"giraffe\"', '\"backward\"', '\"boats\"', '\"umpire\"', '\"under\"', '\"silk\"', '\"green and black\"', '\"night time\"', '\"santa\"', '\"ranch\"', '\"frosting\"', '\"petting\"', '\"corner\"', '\"asparagus\"', '\"on floor\"', '\"pier\"', '\"paper\"', '\"coal\"', '\"work\"', '\"broadway\"', '\"rackets\"', '\"leaf\"', '\"playstation\"', '\"high\"', '\"protection\"', '\"power\"', '\"island\"', '\"telling time\"', '\"freight\"', '\"peace\"', '\"bob\"', '\"jetblue\"', '\"yacht\"', '\"wires\"', '\"still\"', '\"cameras\"', '\"pull\"', '\"sparrow\"', '\"shorter\"', '\"jumping\"', '\"lily\"', '\"red and silver\"', '\"closed\"', '\"meat\"', '\"hello kitty\"', '\"photoshop\"', '\"christmas tree\"', '\"suspenders\"', '\"deep\"', '\"skyscrapers\"', '\"grape\"', '\"farm\"', '\"downtown\"', '\"menu\"', '\"slacks\"', '\"money\"', '\"animal\"', '\"round\"', '\"fun\"', '\"flat screen\"', '\"train tracks\"', '\"singing\"', '\"budweiser\"', '\"flour\"', '\"thoroughbred\"', '\"hispanic\"', '\"captivity\"', '\"tripod\"', '\"cat food\"', '\"snowboarding\"', '\"writing\"', '\"knives\"', '\"tissues\"', '\"happy\"', '\"stones\"', '\"coca-cola\"', '\"m\"', '\"copper\"', '\"earbuds\"', '\"pedestrian\"', '\"pole\"', '\"thanksgiving\"', '\"now\"', '\"gravel\"', '\"model\"', '\"helicopter\"', '\"brushing teeth\"', '\"garbage\"', '\"railing\"', '\"teacher\"', '\"baking\"', '\"w\"', '\"carnation\"', '\"continental\"', '\"buffalo\"', '\"tennis rackets\"', '\"plunger\"', '\"shop\"', '\"climbing\"', '\"elephant\"', '\"not in service\"', '\"on car\"', '\"shaking hands\"', '\"throwing frisbee\"', '\"short\"', '\"end\"', '\"vegetables\"', '\"wild\"', '\"lights\"', '\"big\"', '\"above\"', '\"white and gray\"', '\"freezer\"', '\"window\"', '\"asia\"', '\"banana bread\"', '\"kissing\"', '\"los angeles\"', '\"sheepdog\"', '\"sidecar\"', '\"top\"', '\"y\"', '\"mall\"', '\"bikers\"', '\"disney\"', '\"in background\"', '\"slippers\"', '\"bird\"', '\"teal\"', '\"cabinet\"', '\"dunkin donuts\"', '\"tam\"', '\"bowtie\"', '\"fireman\"', '\"marshmallows\"', '\"biker\"', '\"puppy\"', '\"on motorcycle\"', '\"feeding giraffe\"', '\"veggies\"', '\"can\\'t tell\"', '\"pooping\"', '\"left\"', '\"drinking\"', '\"red light\"', '\"grapes\"', '\"sandwiches\"', '\"minnie mouse\"', '\"emirates\"', '\"heart\"', '\"cabbage\"', '\"sailboat\"', '\"weather vane\"', '\"very big\"', '\"schnauzer\"', '\"brushing his teeth\"', '\"cumulus\"', '\"to eat\"', '\"horse racing\"', '\"behind woman\"', '\"cherry\"', '\"radiator\"', '\"strawberry\"', '\"eat\"', '\"walk\"', '\"laying down\"', '\"braves\"', '\"chain link\"', '\"worms\"', '\"ivy\"', '\"library\"', '\"knife\"', '\"brushing\"', '\"natural\"', '\"clocks\"', '\"dots\"', '\"green\"', '\"lufthansa\"', '\"krispy kreme\"', '\"red and black\"', '\"broke\"', '\"costume\"', '\"pancake\"', '\"fridge\"', '\"in corner\"', '\"lamps\"', '\"fighting\"', '\"light\"', '\"south\"', '\"400\"', '\"washington dc\"', '\"daytime\"', '\"jet\"', '\"3 feet\"', '\"sheep\"', '\"100 feet\"', '\"drawing\"', '\"upside down\"', '\"bucket\"', '\"striped\"', '\"chain\"', '\"walking\"', '\"dancing\"', '\"snowboards\"', '\"sliding\"', '\"urban\"', '\"boogie board\"', '\"mayonnaise\"', '\"15 feet\"', '\"brass\"', '\"speakers\"', '\"pasta\"', '\"mural\"', '\"packing\"', '\"sub\"', '\"windows\"', '\"graffiti\"', '\"swan\"', '\"motocross\"', '\"competition\"', '\"goat\"', '\"jumped\"', '\"toys\"', '\"gun\"', '\"person\"', '\"one on right\"', '\"looking out window\"', '\"squash\"', '\"conductor\"', '\"ears\"', '\"bottom right\"', '\"southwest\"', '\"notebook\"', '\"13\"', '\"children\"', '\"spatula\"', '\"baby\\'s breath\"', '\"fashion\"', '\"on couch\"', '\"flat\"', '\"large\"', '\"passengers\"', '\"glazed\"', '\"stove\"', '\"steam\"', '\"pepper\"', '\"north america\"', '\"vanilla\"', '\"racquet\"', '\"right side\"', '\"plow\"', '\"snowboarder\"', '\"dip\"', '\"on table\"', '\"skis\"', '\"mercedes\"', '\"court\"', '\"hotel room\"', '\"mountain dew\"', '\"toaster\"', '\"ham\"', '\"jeep\"', '\"steeple\"', '\"stone\"', '\"thumb\"', '\"6 feet\"', '\"to catch frisbee\"', '\"glaze\"', '\"pink and yellow\"', '\"show\"', '\"classic\"', '\"blinders\"', '\"holding umbrella\"', '\"mound\"', '\"dinner\"', '\"pizza cutter\"', '\"first\"', '\"printer\"', '\"owl\"', '\"looking at camera\"', '\"daisies\"', '\"tulips\"', '\"unclear\"', '\"hill\"', '\"x\"', '\"shoulder\"', '\"35\"', '\"electricity\"', '\"mushroom\"', '\"crib\"', '\"colorado\"', '\"grinding\"', '\"teddy bear\"', '\"truck\"', '\"both\"', '\"ponytail\"', '\"on sidewalk\"', '\"grapefruit\"', '\"hair dryer\"', '\"curb\"', '\"staring\"', '\"1980\"', '\"riding horses\"', '\"75\"', '\"race\"', '\"spiderman\"', '\"salon\"', '\"makeup\"', '\"don\\'t walk\"', '\"driving\"', '\"adults\"', '\"closet\"', '\"day time\"', '\"stickers\"', '\"yield\"', '\"no parking\"', '\"red and green\"', '\"jockey\"', '\"doorway\"', '\"mozzarella\"', '\"beanie\"', '\"lanyard\"', '\"easyjet\"', '\"meatballs\"', '\"christmas\"', '\"low\"', '\"shopping cart\"', '\"blonde\"', '\"sitting\"', '\"honda\"', '\"french\"', '\"referee\"', '\"swirls\"', '\"letters\"', '\"club\"', '\"pizza\"', '\"charging\"', '\"eaten\"', '\"000\"', '\"in air\"', '\"candle\"', '\"water bottle\"', '\"train\"', '\"pen\"', '\"holding\"', '\"hanging\"', '\"sushi\"', '\"no smoking\"', '\"roll\"', '\"selling\"', '\"colgate\"', '\"drinks\"', '\"looking\"', '\"toothpaste\"', '\"white\"', '\"swim trunks\"', '\"windowsill\"', '\"peaches\"', '\"to hit ball\"', '\"no train\"', '\"peeing\"', '\"2015\"', '\"abstract\"', '\"birthday\"', '\"80\"', '\"toward\"', '\"riding bike\"', '\"weeds\"', '\"blue and green\"', '\"comfort\"', '\"cupcakes\"', '\"man\"', '\"stuffed animal\"', '\"beige\"', '\"smoothie\"', '\"polo\"', '\"jones\"', '\"several\"', '\"hot dog\"', '\"fall\"', '\"lilies\"', '\"46\"', '\"uniforms\"', '\"tiles\"', '\"volvo\"', '\"toothbrush\"', '\"1950s\"', '\"45\"', '\"bird feeder\"', '\"cooking\"', '\"pare\"', '\"market\"', '\"kettle\"', '\"spinach\"', '\"playing frisbee\"', '\"huge\"', '\"people\"', '\"stripe\"', '\"bookshelf\"', '\"seeds\"', '\"octagon\"', '\"pillows\"', '\"tennis ball\"', '\"couch\"', '\"over\"', '\"high chair\"', '\"lilac\"', '\"dog show\"', '\"60\"', '\"taxi\"', '\"ahead\"', '\"identification\"', '\"cardinal\"', '\"dough\"', '\"pitching\"', '\"forehand\"', '\"cutting hair\"', '\"tulip\"', '\"pointing\"', '\"guitar hero\"', '\"not possible\"', '\"blinds\"', '\"tarp\"', '\"subway\"', '\"mom\"', '\"remodeling\"', '\"street sign\"', '\"design\"', '\"on his face\"', '\"circle\"', '\"india\"', '\"geese\"', '\"bunk\"', '\"close\"', '\"air france\"', '\"lot\"', '\"triangle\"', '\"white and yellow\"', '\"harley davidson\"', '\"5', '\"brick\"', '\"monitor\"', '\"angel\"', '\"concentration\"', '\"tattoo\"', '\"genetics\"', '\"bathing suit\"', '\"toothpicks\"', '\"44\"', '\"planes\"', '\"toiletries\"', '\"tennis\"', '\"maple leaf\"', '\"us airways\"', '\"lots\"', '\"1.00\"', '\"29\"', '\"different teams\"', '\"throw\"', '\"bagel\"', '\"in back\"', '\"robe\"', '\"on bed\"', '\"2000\"', '\"surprise\"', '\"blueberries\"', '\"microphone\"', '\"arch\"', '\"beets\"', '\"brush\"', '\"real\"', '\"53\"', '\"stop sign\"', '\"red\"', '\"wicker\"', '\"fries\"', '\"bushes\"', '\"bears\"', '\"cupcake\"', '\"hats\"', '\"lotion\"', '\"rottweiler\"', '\"laptops\"', '\"canopy\"', '\"dogs\"', '\"family\"', '\"rose\"', '\"broom\"', '\"1', '\"next to toilet\"', '\"coming\"', '\"patterned\"', '\"candles\"', '\"sweatshirt\"', '\"orange juice\"', '\"berries\"', '\"left side\"', '\"green and orange\"', '\"garden\"', '\"mexican\"', '\"vent\"', '\"all of them\"', '\"legs\"', '\"slow down\"', '\"49\"', '\"toasted\"', '\"boating\"', '\"cross country\"', '\"fast food\"', '\"1 inch\"', '\"mohawk\"', '\"shower curtain\"', '\"cnn\"', '\"mane\"', '\"chili\"', '\"public\"', '\"horns\"', '\"qantas\"', '\"placemat\"', '\"hollywood\"', '\"hungry\"', '\"stroller\"', '\"pm\"', '\"statue\"', '\"shadows\"', '\"fly\"', '\"throw ball\"', '\"pomeranian\"', '\"on tree\"', '\"passenger\"', '\"apron\"', '\"stick\"', '\"dawn\"', '\"32\"', '\"nokia\"', '\"coconut\"', '\"wiimote\"', '\"pan\"', '\"lobster\"', '\"german shepherd\"', '\"stained glass\"', '\"potato salad\"', '\"2', '\"shoe\"', '\"tire\"', '\"foot\"', '\"tourist\"', '\"cell\"', '\"donkey\"', '\"handle\"', '\"radish\"', '\"lap\"', '\"planter\"', '\"carpet\"', '\"above stove\"', '\"lace\"', '\"down\"', '\"leaves\"', '\"art\"', '\"51\"', '\"full\"', '\"swim\"', '\"above toilet\"', '\"on pole\"', '\"jets\"', '\"button\"', '\"sony ericsson\"', '\"bowl\"', '\"to get to other side\"', '\"fancy\"', '\"happy birthday\"', '\"wii\"', '\"lighter\"', '\"band\"', '\"t shirt\"', '\"chandelier\"', '\"shorts\"', '\"orange and yellow\"', '\"shallow\"', '\"pickles\"', '\"flowers\"', '\"pigeon\"', '\"furniture\"', '\"st patrick\\'s day\"', '\"sleeping\"', '\"europe\"', '\"ups\"', '\"cauliflower\"', '\"jal\"', '\"pc\"', '\"mother\"', '\"take off\"', '\"philadelphia\"', '\"space needle\"', '\"skull and crossbones\"', '\"bus station\"', '\"giraffe and zebra\"', '\"pee\"', '\"moss\"', '\"toaster oven\"', '\"slow\"', '\"all\"', '\"baker\"', '\"floor\"', '\"straight\"', '\"crow\"', '\"tuna\"', '\"hallway\"', '\"coffee pot\"', '\"o\"', '\"toy\"', '\"kid\"', '\"purple\"', '\"cloud\"', '\"drive\"', '\"55\"', '\"farmers market\"', '\"coca cola\"', '\"necklace\"', '\"smiley face\"', '\"cheddar\"', '\"awake\"', '\"top right\"', '\"carnations\"', '\"batting\"', '\"antenna\"', '\"crane\"', '\"traffic lights\"', '\"watermark\"', '\"man in middle\"', '\"peppers\"', '\"steps\"', '\"accident\"', '\"sun hat\"', '\"shadow\"', '\"fans\"', '\"plastic wrap\"', '\"rear\"', '\"bride\"', '\"at camera\"', '\"panda\"', '\"pottery\"', '\"smoke\"', '\"hundreds\"', '\"drums\"', '\"backhand\"', '\"pants\"', '\"compaq\"', '\"few\"', '\"parking lot\"', '\"holding it\"', '\"baseball bat\"', '\"skirt\"', '\"surfboards\"', '\"dachshund\"', '\"sheets\"', '\"electric\"', '\"wine bottle\"', '\"smartphone\"', '\"racing\"', '\"31\"', '\"nintendo\"', '\"horses\"', '\"big ben\"', '\"billabong\"', '\"cucumbers\"', '\"tent\"', '\"plaid\"', '\"boys\"', '\"smoking\"', '\"runway\"', '\"players\"', '\"food truck\"', '\"12\"', '\"on chair\"', '\"terrier\"', '\"no grass\"', '\"blanket\"', '\"b\"', '\"pitch\"', '\"surprised\"', '\"pockets\"', '\"long\"', '\"pool\"', '\"chest\"', '\"practice\"', '\"woman\"', '\"talking\"', '\"moped\"', '\"in her hand\"', '\"casserole\"', '\"helmets\"', '\"barber shop\"', '\"fox\"', '\"barrier\"', '\"holding baby\"', '\"neon\"', '\"sidewalk\"', '\"hit\"', '\"cosmo\"', '\"indians\"', '\"burgers\"', '\"movie\"', '\"paisley\"', '\"bed\"', '\"barn\"', '\"mexico\"', '\"pirates\"', '\"chevy\"', '\"dinosaur\"', '\"cane\"', '\"man on left\"', '\"drain\"', '\"freightliner\"', '\"p\"', '\"surf\"', '\"britain\"', '\"dc\"', '\"sled\"', '\"sunglasses\"', '\"war\"', '\"play\"', '\"relaxing\"', '\"it isn\\'t\"', '\"fish\"', '\"double decker\"', '\"city bus\"', '\"ramp\"', '\"trick\"', '\"d\"', '\"boxing\"', '\"ferris wheel\"', '\"fan\"', '\"dragon\"', '\"at&t\"', '\"porch\"', '\"cement\"', '\"99\"', '\"nissan\"', '\"fork\"', '\"magnets\"', '\"westin\"', '\"below\"', '\"parking meter\"', '\"thomas\"', '\"1950\"', '\"eiffel tower\"', '\"no flag\"', '\"picture\"', '\"pineapple\"', '\"on elephant\"', '\"toilets\"', '\"hitting\"', '\"on rock\"', '\"star alliance\"', '\"50 feet\"', '\"ski resort\"', '\"throwing\"', '\"swans\"', '\"heineken\"', '\"cute\"', '\"goggles\"', '\"catholic\"', '\"hawaiian\"', '\"moon\"', '\"utensils\"', '\"scarf\"', '\"in suitcase\"', '\"bread\"', '\"parking meters\"', '\"crows\"', '\"beer\"', '\"shirt\"', '\"wreath\"', '\"mac\"', '\"electronics\"', '\"mosaic\"', '\"sunlight\"', '\"branch\"', '\"wings\"', '\"uniform\"', '\"in front\"', '\"space shuttle\"', '\"yellow and black\"', '\"on pizza\"', '\"right\"', '\"british\"', '\"crates\"', '\"bathing\"', '\"raining\"', '\"inside\"', '\"2007\"', '\"90\"', '\"wheelie\"', '\"plants\"', '\"rough\"', '\"japanese\"', '\"detroit\"', '\"hydrant\"', '\"rainbow\"', '\"arabic\"', '\"golf\"', '\"2\"', '\"air canada\"', '\"hit ball\"', '\"ping pong\"', '\"by window\"', '\"school\"', '\"hearts\"', '\"motorcycle\"', '\"supreme\"', '\"canoe\"', '\"game controller\"', '\"boredom\"', '\"pot\"', '\"driveway\"', '\"canon\"', '\"middle\"', '\"scenery\"', '\"hat\"', '\"serve\"', '\"caramel\"', '\"goal\"', '\"rug\"', '\"case\"', '\"under tree\"', '\"skateboarder\"', '\"greyhound\"', '\"chrome\"', '\"mountain\"', '\"polar\"', '\"it\\'s raining\"', '\"whale\"', '\"orange and black\"', '\"jeans\"', '\"bagels\"', '\"photographer\"', '\"crosswalk\"', '\"long sleeve\"', '\"friends\"', '\"home\"', '\"braid\"', '\"on bus\"', '\"riding motorcycle\"', '\"pigtails\"', '\"mcdonald\\'s\"', '\"black and pink\"', '\"farmer\"', '\"30 mph\"', '\"persian\"', '\"olives\"', '\"angry\"', '\"maroon\"', '\"mercedes benz\"', '\"i don\\'t know\"', '\"skating\"', '\"fell\"', '\"oak\"', '\"chicago\"', '\"sandwich\"', '\"lunch\"', '\"couple\"', '\"gmc\"', '\"wakeboard\"', '\"teeth\"', '\"pearl\"', '\"milk\"', '\"ring\"', '\"sepia\"', '\"fair\"', '\"cars\"', '\"pig\"', '\"bleachers\"', '\"warm\"', '\"clothing\"', '\"parrot\"', '\"logo\"', '\"dairy\"', '\"dining\"', '\"aluminum\"', '\"tray\"', '\"blue and black\"', '\"giraffes\"', '\"indoor\"', '\"bright\"', '\"40\"', '\"snow\"', '\"residential\"', '\"fabric\"', '\"up\"', '\"cessna\"', '\"traffic light\"', '\"1 foot\"', '\"salt and pepper\"', '\"bicycles\"', '\"cell phone\"', '\"shark\"', '\"very high\"', '\"tags\"', '\"messy\"', '\"white and red\"', '\"multi\"', '\"outdoors\"', '\"north\"', '\"pocket\"', '\"mustard\"', '\"glasses\"', '\"4', '\"fedora\"', '\"apartments\"', '\"25\"', '\"television\"', '\"not long\"', '\"red and white\"', '\"steel\"', '\"r\"', '\"pipes\"', '\"2 feet\"', '\"playing tennis\"', '\"dog food\"', '\"goatee\"', '\"2012\"', '\"stretching\"', '\"no light\"', '\"on sink\"', '\"star\"', '\"1 way\"', '\"soft\"', '\"bad\"', '\"150\"', '\"scrambled\"', '\"pigeons\"', '\"rectangles\"', '\"clear\"', '\"toilet paper\"', '\"swinging\"', '\"3 inches\"', '\"best buy\"', '\"hard\"', '\"mantle\"', '\"sunny\"', '\"tie\"', '\"lime\"', '\"ripe\"', '\"tugboat\"', '\"kites\"', '\"adidas\"', '\"controllers\"', '\"mutt\"', '\"k\"', '\"sas\"', '\"wii controllers\"', '\"birthday party\"', '\"harry potter\"', '\"mariners\"', '\"eggs\"', '\"apple\"', '\"stars\"', '\"younger\"', '\"easton\"', '\"run\"', '\"strap\"', '\"jar\"', '\"i\"', '\"cutting board\"', '\"bow\"', '\"blurry\"', '\"l\"', '\"produce\"', '\"beijing\"', '\"plane\"', '\"poodle\"', '\"toothpick\"', '\"flying kite\"', '\"washing\"', '\"singapore\"', '\"diamond\"', '\"paint\"', '\"leopard\"', '\"copyright\"', '\"6\"', '\"overcast\"', '\"grandfather\"', '\"cakes\"', '\"tour\"', '\"gloves\"', '\"wood\"', '\"flag\"', '\"haircut\"', '\"chocolate\"', '\"cold\"', '\"giants\"', '\"sunrise\"', '\"helmet\"', '\"front\"', '\"towards\"', '\"yellow and green\"', '\"meter\"', '\"boundaries\"', '\"4th of july\"', '\"firefighter\"', '\"mouse pad\"', '\"horse\"', '\"in middle\"', '\"california\"', '\"birds\"', '\"sky\"', '\"curved\"', '\"lizard\"', '\"loading\"', '\"park\"', '\"collie\"', '\"10 years\"', '\"paddle\"', '\"professional\"', '\"blueberry\"', '\"tying tie\"', '\"powdered sugar\"', '\"frisbee\"', '\"nature\"', '\"dump\"', '\"transportation\"', '\"cross\"', '\"hose\"', '\"pepperoni\"', '\"lg\"', '\"overalls\"', '\"movement\"', '\"trash can\"', '\"zipper\"', '\"long time\"', '\"hexagon\"', '\"woodpecker\"', '\"classroom\"', '\"bowls\"', '\"f\"', '\"behind bus\"', '\"trees\"', '\"skiers\"', '\"mixer\"', '\"older\"', '\"only\"', '\"crafts\"', '\"colored\"', '\"catch ball\"', '\"safety\"', '\"current\"', '\"black and red\"', '\"pond\"', '\"wilson\"', '\"waves\"', '\"falling\"', '\"pacific\"', '\"g\"', '\"recessed\"', '\"lab\"', '\"surfers\"', '\"tinkerbell\"', '\"neck\"', '\"golden retriever\"', '\"fishing boat\"', '\"dusk\"', '\"parrots\"', '\"triangles\"', '\"cereal\"', '\"41\"', '\"9', '\"game\"', '\"chalk\"', '\"ketchup and mustard\"', '\"balance\"', '\"marker\"', '\"john\"', '\"turn right\"', '\"airplanes\"', '\"rays\"', '\"running\"', '\"magnet\"', '\"pedestrians\"', '\"mother and child\"', '\"peanut butter\"', '\"zebras\"', '\"building\"', '\"ketchup\"', '\"beef\"', '\"22\"', '\"42\"', '\"decorative\"', '\"soup\"', '\"seaweed\"', '\"to left\"', '\"8 feet\"', '\"not\"', '\"motion\"', '\"pictures\"', '\"lego\"', '\"70\"', '\"biplane\"', '\"stuffed animals\"', '\"black and white\"', '\"adult\"', '\"main\"', '\"sail\"', '\"nasa\"', '\"on tracks\"', '\"no one\"', '\"batman\"', '\"wheat\"', '\"towing\"', '\"grocery store\"', '\"lemons\"', '\"mouse\"', '\"blue and yellow\"', '\"38\"', '\"lines\"', '\"stucco\"', '\"corona\"', '\"mat\"', '\"indian\"', '\"24\"', '\"herding\"', '\"life\"', '\"wine\"', '\"goats\"', '\"night\"', '\"cobblestone\"', '\"house\"', '\"keyboard\"', '\"seagull\"', '\"octopus\"', '\"life vest\"', '\"someone\"', '\"skateboard\"', '\"cadillac\"', '\"on his head\"', '\"cutting\"', '\"lady\"', '\"qatar\"', '\"mirrors\"', '\"playing\"', '\"italian\"', '\"security\"', '\"grill\"', '\"shirts\"', '\"checkerboard\"', '\"rocks\"', '\"7', '\"station\"', '\"silver\"', '\"tables\"', '\"chef\"', '\"enclosure\"', '\"sweat\"', '\"in hand\"', '\"amazon\"', '\"hp\"', '\"lake\"', '\"tropicana\"', '\"modern\"', '\"distance\"', '\"squatting\"', '\"zoo\"', '\"leaning\"', '\"high heels\"', '\"on horse\"', '\"52\"', '\"snake\"', '\"1\"', '\"db\"', '\"wine glass\"', '\"stopped\"', '\"pans\"', '\"jesus\"', '\"video\"', '\"101\"', '\"plain\"', '\"sprinkles\"', '\"ankle\"', '\"baskets\"', '\"cover\"', '\"nathan\\'s\"', '\"coffee table\"', '\"on man\"', '\"box\"', '\"usa\"', '\"burger\"', '\"brace\"', '\"email\"', '\"frisbees\"', '\"eating\"', '\"white and green\"', '\"broccoli\"', '\"pelican\"', '\"public market center\"', '\"green and white\"', '\"olympics\"', '\"east\"', '\"rowing\"', '\"refrigerators\"', '\"600\"', '\"cookie\"', '\"20 feet\"', '\"top left\"', '\"go\"', '\"beagle\"', '\"roof\"', '\"tongs\"', '\"shrimp\"', '\"left one\"', '\"backpack\"', '\"blackberry\"', '\"years\"', '\"western\"', '\"cd\"', '\"desk\"', '\"klm\"', '\"human\"', '\"strike\"', '\"wax\"', '\"dock\"', '\"wire\"', '\"sofa\"', '\"kneeling\"', '\"camouflage\"', '\"bnsf\"', '\"no clock\"', '\"raw\"', '\"alps\"', '\"boarding\"', '\"12', '\"remotes\"', '\"baseball cap\"', '\"bats\"', '\"tennis court\"', '\"shopping\"', '\"new york\"', '\"bars\"', '\"stool\"', '\"speed limit\"', '\"kiting\"', '\"sticker\"', '\"in field\"', '\"polar bears\"', '\"tunnel\"', '\"visor\"', '\"pelicans\"', '\"meeting\"', '\"toronto\"', '\"gaming\"', '\"gray and red\"', '\"193\"', '\"bundt\"', '\"catcher\"', '\"refrigerator\"', '\"jet ski\"', '\"heinz\"', '\"virgin\"', '\"ski\"', '\"muffin\"', '\"thailand\"', '\"luggage\"', '\"roman numerals\"', '\"baked\"', '\"before\"', '\"tiara\"', '\"vehicles\"', '\"fires\"', '\"yankees\"', '\"paw\"', '\"playing soccer\"', '\"fern\"', '\"peacock\"', '\"cord\"', '\"shingles\"', '\"coleslaw\"', '\"muffins\"', '\"doughnuts\"', '\"macaroni\"', '\"facebook\"', '\"flamingo\"', '\"trucks\"', '\"2 men\"', '\"for sale\"', '\"on sign\"', '\"flashlight\"', '\"casual\"', '\"factory\"', '\"ostrich\"', '\"snowy\"', '\"bald\"', '\"korean air\"', '\"around neck\"', '\"fruit salad\"', '\"keys\"', '\"in water\"', '\"skyscraper\"', '\"it\\'s not\"', '\"c\"', '\"green and brown\"', '\"to dry\"', '\"zucchini\"', '\"h\"', '\"feathers\"', '\"name tag\"', '\"rabbit\"', '\"first base\"', '\"10\"', '\"shore\"', '\"feeding\"', '\"arizona\"', '\"ferry\"', '\"laughing\"', '\"hazy\"', '\"finger\"', '\"palm\"', '\"partly cloudy\"', '\"stew\"', '\"china airlines\"', '\"frosted\"', '\"coins\"', '\"fire truck\"', '\"single\"', '\"88\"', '\"egg salad\"', '\"windy\"', '\"pizza hut\"', '\"british airways\"', '\"blue and red\"', '\"tattoos\"', '\"watching tv\"', '\"smaller\"', '\"ham and cheese\"', '\"cardboard\"', '\"wall st\"', '\"healthy\"', '\"tablecloth\"', '\"heater\"', '\"sweater\"', '\"tongue\"', '\"coats\"', '\"cubs\"', '\"on grass\"', '\"wetsuit\"', '\"a\"', '\"no number\"', '\"penguin\"', '\"no man\"', '\"sesame seeds\"', '\"us open\"', '\"10 inches\"', '\"5 years\"', '\"poster\"', '\"arrows\"', '\"camping\"', '\"formica\"', '\"shoes\"', '\"plant\"', '\"acer\"', '\"teddy bears\"', '\"cushion\"', '\"living room\"', '\"blending\"', '\"softball\"', '\"skateboarding\"', '\"bridge\"', '\"roman\"', '\"sign\"', '\"strawberries\"', '\"drinking water\"', '\"gray\"', '\"serving\"', '\"on stove\"', '\"wave\"', '\"shepherd\"', '\"iris\"', '\"chevrolet\"', '\"riding bikes\"', '\"private\"', '\"gas station\"', '\"ski slope\"', '\"diet coke\"', '\"grass\"', '\"2016\"', '\"barbed wire\"', '\"monkey\"', '\"water\"', '\"traveling\"', '\"taller\"', '\"vertical\"', '\"cinnamon\"', '\"mercedes-benz\"', '\"bark\"', '\"black and gray\"', '\"ocean\"', '\"shelves\"', '\"drying\"', '\"suv\"', '\"cows\"', '\"solid\"', '\"twin\"', '\"africa\"', '\"fedex\"', '\"sedan\"', '\"winter\"', '\"feet\"', '\"ge\"', '\"fighter\"', '\"curtain\"', '\"single engine\"', '\"chase\"', '\"mickey mouse\"', '\"houses\"', '\"obama\"', '\"parakeet\"', '\"tan\"', '\"laying\"', '\"down street\"', '\"cooler\"', '\"sunflower\"', '\"water skis\"', '\"clean\"', '\"kite flying\"', '\"flats\"', '\"collar\"', '\"tape\"', '\"on runway\"', '\"photo\"', '\"fur\"', '\"double\"', '\"gray and black\"', '\"comforter\"', '\"free\"', '\"restaurant\"', '\"train station\"', '\"in bowl\"', '\"parachute\"', '\"girl on right\"', '\"grilled cheese\"', '\"pillow\"', '\"none\"', '\"arm\"', '\"pony\"', '\"rocky\"', '\"hay\"', '\"humans\"', '\"cluttered\"', '\"tennis racket\"'}\n"
     ]
    }
   ],
   "source": [
    "def find_unique_values(answer_file_path, test_file_path):\n",
    "    with open(answer_file_path, 'r', encoding='utf-8') as f:\n",
    "        answer_file_lines = f.readlines()\n",
    "    \n",
    "    answer_values = set()\n",
    "    for line in answer_file_lines:\n",
    "        if line.strip():\n",
    "            line_dict = eval(line.strip())\n",
    "            answer_values.add(line_dict[\"answer\"])\n",
    "    \n",
    "    with open(test_file_path, 'r', encoding='utf-8') as f:\n",
    "        test_file_lines = f.readlines()\n",
    "    \n",
    "    test_values = set()\n",
    "    for line in test_file_lines:\n",
    "        if line.strip():\n",
    "            key, _ = line.split(':', 1)\n",
    "            test_values.add(key.strip())\n",
    "    \n",
    "    answer_not_in_test = answer_values - test_values\n",
    "    test_not_in_answer = test_values - answer_values\n",
    "    \n",
    "    print(\"answer2label_original.txt에 있지만 test.txt에는 없는 값:\", answer_not_in_test)\n",
    "    print(\"test.txt에 있지만 answer2label_original.txt에는 없는 값:\", test_not_in_answer)\n",
    "\n",
    "answer_file_path = '../answer2label/answer2label_original.txt'\n",
    "test_file_path = '../test.txt'\n",
    "\n",
    "find_unique_values(answer_file_path, test_file_path)"
   ]
  },
  {
   "cell_type": "markdown",
   "metadata": {},
   "source": [
    "#### json 파일 이어붙이기"
   ]
  },
  {
   "cell_type": "code",
   "execution_count": 7,
   "metadata": {},
   "outputs": [],
   "source": [
    "import json\n",
    "\n",
    "append_file = '../arranged/v2_mscoco_val2014_annotations.json'\n",
    "original_file = '../arranged/v2_mscoco_train2014_annotations.json'\n",
    "output_file = '../annotations_integrated.json'\n",
    "\n",
    "with open(append_file, 'r') as f:\n",
    "    append_data = json.load(f)\n",
    "\n",
    "with open(original_file, 'r') as f:\n",
    "    original_data = json.load(f)\n",
    "\n",
    "original_data['annotations'].extend(append_data['annotations'])\n",
    "\n",
    "with open(output_file, 'w') as f:\n",
    "    json.dump(original_data, f, indent=4)"
   ]
  },
  {
   "cell_type": "markdown",
   "metadata": {},
   "source": [
    "#### multiple choice answer만 JSON으로 저장하기"
   ]
  },
  {
   "cell_type": "code",
   "execution_count": 8,
   "metadata": {},
   "outputs": [
    {
     "name": "stdout",
     "output_type": "stream",
     "text": [
      "총 658111개의 답\n"
     ]
    }
   ],
   "source": [
    "import json\n",
    "\n",
    "input_file = '../annotations_integrated.json'\n",
    "output_file = '../mc_answers_integrated.json'\n",
    "\n",
    "with open(input_file, 'r') as f:\n",
    "    data = json.load(f)\n",
    "\n",
    "answers = []\n",
    "\n",
    "for annotation in data['annotations']:\n",
    "    entry = {\n",
    "        \"question_id\": annotation['question_id'],\n",
    "        \"multiple_choice_answer\": annotation['multiple_choice_answer']\n",
    "    }\n",
    "    answers.append(entry)\n",
    "\n",
    "with open(output_file, 'w') as f:\n",
    "    json.dump({\"answers\": answers}, f, indent=4)\n",
    "\n",
    "print(f\"총 {len(answers)}개의 답\")"
   ]
  },
  {
   "cell_type": "markdown",
   "metadata": {},
   "source": [
    "#### 고유 대답 txt로 저장"
   ]
  },
  {
   "cell_type": "code",
   "execution_count": 4,
   "metadata": {},
   "outputs": [
    {
     "name": "stdout",
     "output_type": "stream",
     "text": [
      "총 22633개의 고유한 답변\n"
     ]
    }
   ],
   "source": [
    "import json\n",
    "\n",
    "input_file = '../mc_answers.json'\n",
    "output_file = '../answers_train.txt'\n",
    "\n",
    "with open(input_file, 'r') as f:\n",
    "    data = json.load(f)\n",
    "\n",
    "unique_answers = set()\n",
    "\n",
    "for entry in data['answers']:\n",
    "    unique_answers.add(entry['multiple_choice_answer'])\n",
    "\n",
    "with open(output_file, 'w') as f:\n",
    "    for answer in sorted(unique_answers):\n",
    "        f.write(answer + '\\n')\n",
    "\n",
    "print(f\"총 {len(unique_answers)}개의 고유한 답변\")"
   ]
  },
  {
   "cell_type": "code",
   "execution_count": 1,
   "metadata": {},
   "outputs": [
    {
     "name": "stdout",
     "output_type": "stream",
     "text": [
      "New JSON file with 'image_filename' saved to ./VQA/v2_OpenEnded_mscoco_val2014_questions_final.json\n"
     ]
    }
   ],
   "source": [
    "# 이미지 파일명 추가된 JSON 파일 만들기\n",
    "import json\n",
    "\n",
    "# JSON 파일 경로\n",
    "input_file_path = './VQA/v2_OpenEnded_mscoco_val2014_questions_arranged_numbered.json'\n",
    "output_file_path = './VQA/v2_OpenEnded_mscoco_val2014_questions_final.json'\n",
    "\n",
    "# JSON 데이터 읽기\n",
    "with open(input_file_path, 'r') as f:\n",
    "    data = json.load(f)\n",
    "\n",
    "# 각 질문 항목에 \"image_filename\" 추가\n",
    "for question in data['questions']:\n",
    "    image_id_str = f\"{question['image_id']:012d}\"\n",
    "    question['image_filename'] = f\"COCO_val2014_{image_id_str}.jpg\"\n",
    "\n",
    "# 새로운 JSON 파일로 저장\n",
    "with open(output_file_path, 'w') as f:\n",
    "    json.dump(data, f, indent=4)\n",
    "\n",
    "print(f\"New JSON file with 'image_filename' saved to {output_file_path}\")"
   ]
  },
  {
   "cell_type": "code",
   "execution_count": 1,
   "metadata": {},
   "outputs": [
    {
     "name": "stdout",
     "output_type": "stream",
     "text": [
      "새로운 JSON 파일이 생성되었습니다.\n"
     ]
    }
   ],
   "source": [
    "# annotation 파일 정답 묶음 만들기\n",
    "import json\n",
    "from collections import defaultdict\n",
    "\n",
    "# JSON 파일을 읽기\n",
    "with open('./VQA/annotations_5000.json', 'r') as file:\n",
    "    data = json.load(file)\n",
    "\n",
    "# 새로운 형식의 데이터 구조 생성\n",
    "new_data = {\n",
    "    \"info\": data[\"info\"],\n",
    "    \"license\": data[\"license\"],\n",
    "    \"data_subtype\": data[\"data_subtype\"],\n",
    "    \"annotations\": []\n",
    "}\n",
    "\n",
    "# annotation 변환 작업\n",
    "for annotation in data[\"annotations\"]:\n",
    "    answer_counts = defaultdict(int)\n",
    "    for answer in annotation[\"answers\"]:\n",
    "        key = f\"{answer['answer']}_{answer['answer_confidence']}\"\n",
    "        answer_counts[key] += 1\n",
    "    \n",
    "    # 변환된 annotation 생성\n",
    "    new_annotation = {\n",
    "        \"question_type\": annotation[\"question_type\"],\n",
    "        \"multiple_choice_answer\": annotation[\"multiple_choice_answer\"],\n",
    "        \"answers\": answer_counts,\n",
    "        \"image_id\": annotation[\"image_id\"],\n",
    "        \"answer_type\": annotation[\"answer_type\"],\n",
    "        \"question_id\": annotation[\"question_id\"]\n",
    "    }\n",
    "    new_data[\"annotations\"].append(new_annotation)\n",
    "\n",
    "# 새로운 JSON 파일로 저장\n",
    "with open('./VQA/new_annotations_5000.json', 'w') as file:\n",
    "    json.dump(new_data, file, indent=2)\n",
    "\n",
    "print(\"새로운 JSON 파일이 생성되었습니다.\")"
   ]
  },
  {
   "cell_type": "code",
   "execution_count": 1,
   "metadata": {},
   "outputs": [
    {
     "name": "stdout",
     "output_type": "stream",
     "text": [
      "일치하는 question_id:\n",
      "131108001\n",
      "393267002\n",
      "393277003\n",
      "524361000\n",
      "131207005\n",
      "524450006\n",
      "524450007\n",
      "262323001\n",
      "262334001\n",
      "262376001\n",
      "262386011\n",
      "524536005\n",
      "257004\n",
      "524611002\n",
      "524611007\n",
      "262471002\n",
      "328001\n",
      "524621025\n",
      "524621026\n",
      "524637007\n",
      "393569001\n",
      "524642002\n",
      "262509004\n",
      "43753005\n",
      "262531004\n",
      "262531006\n",
      "262576000\n",
      "393674004\n",
      "262605004\n",
      "262605012\n",
      "524775002\n",
      "524799000\n",
      "544002\n",
      "262703002\n",
      "393804003\n",
      "262738000\n",
      "187695000\n",
      "636000\n",
      "262800002\n",
      "393874006\n",
      "525024004\n",
      "525024007\n",
      "262896003\n",
      "262896004\n",
      "525077004\n",
      "262985003\n",
      "131938000\n",
      "263011002\n",
      "263014001\n",
      "873003\n",
      "885007\n",
      "969001\n",
      "394199000\n",
      "985010\n",
      "985015\n",
      "132059000\n",
      "394240002\n",
      "263177001\n",
      "132136001\n",
      "132136002\n",
      "394288002\n",
      "394322004\n",
      "423396001\n",
      "1244000\n",
      "132336007\n",
      "525559001\n",
      "525568002\n",
      "525568006\n",
      "525587000\n",
      "1342010\n",
      "1342019\n",
      "1342038\n",
      "1342062\n",
      "1342074\n",
      "525665010\n",
      "525682002\n",
      "525702008\n",
      "394635001\n",
      "263594001\n",
      "394681002\n",
      "263612001\n",
      "263613000\n",
      "525762004\n",
      "132554005\n",
      "1490002\n",
      "1525004\n",
      "132612003\n",
      "263700003\n",
      "1584002\n",
      "1591002\n",
      "1599001\n",
      "525903002\n",
      "132690000\n",
      "263780009\n",
      "22118000\n",
      "22118004\n",
      "263793001\n",
      "196885004\n",
      "1667003\n",
      "263834002\n",
      "525988020\n",
      "526021003\n",
      "526044000\n",
      "132861002\n",
      "437205016\n",
      "1841001\n",
      "1841002\n",
      "395083002\n",
      "395113005\n",
      "395113007\n",
      "133000007\n",
      "1955000\n",
      "133051001\n",
      "2006003\n",
      "395230002\n",
      "264161006\n",
      "264161008\n",
      "165919001\n",
      "526321004\n",
      "526353004\n",
      "133142000\n",
      "526359004\n",
      "395291000\n",
      "133149001\n",
      "133161005\n",
      "395324000\n",
      "395324001\n",
      "526401001\n",
      "131431000\n",
      "133251001\n",
      "526486003\n",
      "133343002\n",
      "526580022\n",
      "395512001\n",
      "133386005\n",
      "133476004\n",
      "526756001\n",
      "2529007\n"
     ]
    }
   ],
   "source": [
    "# 어려운 질문 목록 뽑아내기\n",
    "import json\n",
    "\n",
    "# JSON 파일을 읽기\n",
    "with open('./VQA/new_annotations_5000.json', 'r') as file:\n",
    "    data = json.load(file)\n",
    "\n",
    "# 일치하는 question_id를 저장할 리스트\n",
    "matching_question_ids = []\n",
    "\n",
    "# 각 annotation에 대해 조건 검사\n",
    "for annotation in data['annotations']:\n",
    "    multiple_choice_answer = annotation['multiple_choice_answer']\n",
    "    answers = annotation['answers']\n",
    "\n",
    "    # _yes로 끝나는 대답과 일치하는지 확인\n",
    "    yes_answers = {key[:-4] for key in answers if key.endswith('_yes')}\n",
    "\n",
    "    # _no나 _maybe로 끝나는 대답과 일치하는지 확인\n",
    "    no_maybe_answers = {key[:-6] for key in answers if key.endswith('_no') or key.endswith('_maybe')}\n",
    "\n",
    "    # multiple_choice_answer가 _yes 대답에는 없고, _no나 _maybe 대답에 있는 경우\n",
    "    if multiple_choice_answer not in yes_answers and multiple_choice_answer in no_maybe_answers:\n",
    "        matching_question_ids.append(annotation['question_id'])\n",
    "\n",
    "# 결과 출력\n",
    "print(\"일치하는 question_id:\")\n",
    "for question_id in matching_question_ids:\n",
    "    print(question_id)"
   ]
  },
  {
   "cell_type": "code",
   "execution_count": 7,
   "metadata": {},
   "outputs": [
    {
     "ename": "KeyError",
     "evalue": "'image_id'",
     "output_type": "error",
     "traceback": [
      "\u001b[1;31m---------------------------------------------------------------------------\u001b[0m",
      "\u001b[1;31mKeyError\u001b[0m                                  Traceback (most recent call last)",
      "Cell \u001b[1;32mIn[7], line 30\u001b[0m\n\u001b[0;32m     28\u001b[0m \u001b[38;5;66;03m# \"questions\" 항목에 \"score\" 추가\u001b[39;00m\n\u001b[0;32m     29\u001b[0m \u001b[38;5;28;01mfor\u001b[39;00m question \u001b[38;5;129;01min\u001b[39;00m val_answers_paraphrased[\u001b[38;5;124m'\u001b[39m\u001b[38;5;124mquestions\u001b[39m\u001b[38;5;124m'\u001b[39m]:\n\u001b[1;32m---> 30\u001b[0m     key \u001b[38;5;241m=\u001b[39m (question[\u001b[38;5;124m'\u001b[39m\u001b[38;5;124mimage_id\u001b[39m\u001b[38;5;124m'\u001b[39m], question[\u001b[38;5;124m'\u001b[39m\u001b[38;5;124mquestion_id\u001b[39m\u001b[38;5;124m'\u001b[39m])\n\u001b[0;32m     31\u001b[0m     answer \u001b[38;5;241m=\u001b[39m question[\u001b[38;5;124m'\u001b[39m\u001b[38;5;124manswer\u001b[39m\u001b[38;5;124m'\u001b[39m]\n\u001b[0;32m     32\u001b[0m     scores \u001b[38;5;241m=\u001b[39m []\n",
      "\u001b[1;31mKeyError\u001b[0m: 'image_id'"
     ]
    }
   ],
   "source": [
    "# 부분점수 주기\n",
    "import json\n",
    "\n",
    "# 파일 경로 목록\n",
    "file_paths = [\n",
    "    {\n",
    "        'answers_paraphrased_path': './VQA/val2014_5000_answers_voted.json',\n",
    "        'output_path': './VQA/val2014_5000_answers_voted_scores.json'\n",
    "    }\n",
    "]\n",
    "\n",
    "# new_annotations 로드\n",
    "with open('./VQA/new_annotations_5000.json', 'r') as f:\n",
    "    new_annotations = json.load(f)\n",
    "\n",
    "# 파일 경로마다 반복\n",
    "for paths in file_paths:\n",
    "    with open(paths['answers_paraphrased_path'], 'r') as f:\n",
    "        val_answers_paraphrased = json.load(f)\n",
    "\n",
    "    # \"answers\" 항목과 \"answer\" 비교 및 점수 부여\n",
    "    answer_score_mapping = {}\n",
    "    for annotation in new_annotations['annotations']:\n",
    "        # image_id와 question_id를 키로 하여 매핑\n",
    "        key = (annotation['image_id'], annotation['question_id'])\n",
    "        answer_score_mapping[key] = annotation['answers']\n",
    "\n",
    "    # \"questions\" 항목에 \"score\" 추가\n",
    "    for question in val_answers_paraphrased['questions']:\n",
    "        key = (question['image_id'], question['question_id'])\n",
    "        answer = question['answer']\n",
    "        scores = []\n",
    "\n",
    "        # new_annotations에서 가져온 answer와 비교하여 점수 부여\n",
    "        if key in answer_score_mapping:\n",
    "            for ans_key, score in answer_score_mapping[key].items():\n",
    "                if ans_key.split('_')[0] == answer:\n",
    "                    scores.append(score)\n",
    "            question['score'] = max(scores) if scores else 0\n",
    "        else:\n",
    "            question['score'] = 0\n",
    "\n",
    "    # 결과 저장\n",
    "    with open(paths['output_path'], 'w') as f:\n",
    "        json.dump(val_answers_paraphrased, f, indent=4)\n",
    "\n",
    "    print(f\"새로운 JSON 파일이 {paths['output_path']}에 저장되었습니다.\")"
   ]
  },
  {
   "cell_type": "code",
   "execution_count": 4,
   "metadata": {},
   "outputs": [],
   "source": [
    "import json\n",
    "import glob\n",
    "import os\n",
    "\n",
    "# 파일 경로\n",
    "new_annotations_file = './VQA/new_annotations_5000.json'\n",
    "paraphrased_answers_files_pattern = './VQA/val2014_5000_answers_paraphrased2_*.json'\n",
    "\n",
    "# JSON 파일 읽기\n",
    "with open(new_annotations_file, 'r') as f:\n",
    "    new_annotations = json.load(f)\n",
    "\n",
    "# question_id를 기준으로 매칭하여 데이터 업데이트\n",
    "annotations_dict = {ann['question_id']: ann for ann in new_annotations['annotations']}\n",
    "\n",
    "# 여러 paraphrased_answers_file을 처리\n",
    "paraphrased_answers_files = glob.glob(paraphrased_answers_files_pattern)\n",
    "for paraphrased_answers_file in paraphrased_answers_files:\n",
    "    with open(paraphrased_answers_file, 'r') as f:\n",
    "        paraphrased_answers = json.load(f)\n",
    "    \n",
    "    for question in paraphrased_answers['questions']:\n",
    "        question_id = question['question_id']\n",
    "        if question_id in annotations_dict:\n",
    "            question['question_type'] = annotations_dict[question_id]['question_type']\n",
    "            question['answer_type'] = annotations_dict[question_id]['answer_type']\n",
    "    \n",
    "    # 업데이트된 데이터 저장\n",
    "    base_name = os.path.basename(paraphrased_answers_file)\n",
    "    updated_file_path = os.path.join('./VQA', f'updated_{base_name}')\n",
    "    with open(updated_file_path, 'w') as f:\n",
    "        json.dump(paraphrased_answers, f, indent=4)"
   ]
  }
 ],
 "metadata": {
  "kernelspec": {
   "display_name": "base",
   "language": "python",
   "name": "python3"
  },
  "language_info": {
   "codemirror_mode": {
    "name": "ipython",
    "version": 3
   },
   "file_extension": ".py",
   "mimetype": "text/x-python",
   "name": "python",
   "nbconvert_exporter": "python",
   "pygments_lexer": "ipython3",
   "version": "3.11.7"
  }
 },
 "nbformat": 4,
 "nbformat_minor": 2
}
